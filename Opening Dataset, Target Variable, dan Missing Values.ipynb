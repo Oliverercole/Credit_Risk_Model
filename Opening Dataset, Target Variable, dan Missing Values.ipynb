{
 "cells": [
  {
   "cell_type": "markdown",
   "id": "a19a0229",
   "metadata": {},
   "source": [
    "# 1. Import Pandas and Numpy"
   ]
  },
  {
   "cell_type": "code",
   "execution_count": 61,
   "id": "f75cede4",
   "metadata": {},
   "outputs": [],
   "source": [
    "import numpy as np\n",
    "import pandas as pd\n",
    "\n",
    "import os\n",
    "import warnings\n",
    "warnings.filterwarnings(\"ignore\")"
   ]
  },
  {
   "cell_type": "markdown",
   "id": "1d6184f2",
   "metadata": {},
   "source": [
    "# 2. Pengenalan Dataset dan Target Value"
   ]
  },
  {
   "cell_type": "code",
   "execution_count": 62,
   "id": "bc65fc4c",
   "metadata": {
    "scrolled": true
   },
   "outputs": [
    {
     "data": {
      "text/plain": [
       "['.ipynb_checkpoints',\n",
       " 'lc_2016_2017.csv',\n",
       " 'lc_loan.csv',\n",
       " 'new.html',\n",
       " 'Opening Dataset, Target Variable, dan Missing Values.ipynb',\n",
       " 'us-state-codes.csv']"
      ]
     },
     "execution_count": 62,
     "metadata": {},
     "output_type": "execute_result"
    }
   ],
   "source": [
    "os.listdir()"
   ]
  },
  {
   "cell_type": "code",
   "execution_count": 63,
   "id": "f4d8c528",
   "metadata": {},
   "outputs": [],
   "source": [
    "loan_data = pd.read_csv('lc_2016_2017.csv')"
   ]
  },
  {
   "cell_type": "code",
   "execution_count": 64,
   "id": "1118a5ef",
   "metadata": {},
   "outputs": [
    {
     "data": {
      "text/html": [
       "<div>\n",
       "<style scoped>\n",
       "    .dataframe tbody tr th:only-of-type {\n",
       "        vertical-align: middle;\n",
       "    }\n",
       "\n",
       "    .dataframe tbody tr th {\n",
       "        vertical-align: top;\n",
       "    }\n",
       "\n",
       "    .dataframe thead th {\n",
       "        text-align: right;\n",
       "    }\n",
       "</style>\n",
       "<table border=\"1\" class=\"dataframe\">\n",
       "  <thead>\n",
       "    <tr style=\"text-align: right;\">\n",
       "      <th></th>\n",
       "      <th>id</th>\n",
       "      <th>member_id</th>\n",
       "      <th>loan_amnt</th>\n",
       "      <th>funded_amnt</th>\n",
       "      <th>funded_amnt_inv</th>\n",
       "      <th>term</th>\n",
       "      <th>int_rate</th>\n",
       "      <th>installment</th>\n",
       "      <th>grade</th>\n",
       "      <th>sub_grade</th>\n",
       "      <th>...</th>\n",
       "      <th>total_bal_il</th>\n",
       "      <th>il_util</th>\n",
       "      <th>open_rv_12m</th>\n",
       "      <th>open_rv_24m</th>\n",
       "      <th>max_bal_bc</th>\n",
       "      <th>all_util</th>\n",
       "      <th>total_rev_hi_lim</th>\n",
       "      <th>inq_fi</th>\n",
       "      <th>total_cu_tl</th>\n",
       "      <th>inq_last_12m</th>\n",
       "    </tr>\n",
       "  </thead>\n",
       "  <tbody>\n",
       "    <tr>\n",
       "      <th>0</th>\n",
       "      <td>112435993</td>\n",
       "      <td>NaN</td>\n",
       "      <td>2300</td>\n",
       "      <td>2300</td>\n",
       "      <td>2300.0</td>\n",
       "      <td>36 months</td>\n",
       "      <td>12.62</td>\n",
       "      <td>77.08</td>\n",
       "      <td>C</td>\n",
       "      <td>C1</td>\n",
       "      <td>...</td>\n",
       "      <td>0.0</td>\n",
       "      <td>NaN</td>\n",
       "      <td>1.0</td>\n",
       "      <td>2.0</td>\n",
       "      <td>2315.0</td>\n",
       "      <td>55.0</td>\n",
       "      <td>7100.0</td>\n",
       "      <td>1.0</td>\n",
       "      <td>0.0</td>\n",
       "      <td>2.0</td>\n",
       "    </tr>\n",
       "    <tr>\n",
       "      <th>1</th>\n",
       "      <td>112290210</td>\n",
       "      <td>NaN</td>\n",
       "      <td>16000</td>\n",
       "      <td>16000</td>\n",
       "      <td>16000.0</td>\n",
       "      <td>60 months</td>\n",
       "      <td>12.62</td>\n",
       "      <td>360.95</td>\n",
       "      <td>C</td>\n",
       "      <td>C1</td>\n",
       "      <td>...</td>\n",
       "      <td>11078.0</td>\n",
       "      <td>69.0</td>\n",
       "      <td>3.0</td>\n",
       "      <td>5.0</td>\n",
       "      <td>1962.0</td>\n",
       "      <td>94.0</td>\n",
       "      <td>31900.0</td>\n",
       "      <td>0.0</td>\n",
       "      <td>6.0</td>\n",
       "      <td>1.0</td>\n",
       "    </tr>\n",
       "    <tr>\n",
       "      <th>2</th>\n",
       "      <td>112436985</td>\n",
       "      <td>NaN</td>\n",
       "      <td>6025</td>\n",
       "      <td>6025</td>\n",
       "      <td>6025.0</td>\n",
       "      <td>36 months</td>\n",
       "      <td>15.05</td>\n",
       "      <td>209.01</td>\n",
       "      <td>C</td>\n",
       "      <td>C4</td>\n",
       "      <td>...</td>\n",
       "      <td>0.0</td>\n",
       "      <td>NaN</td>\n",
       "      <td>1.0</td>\n",
       "      <td>2.0</td>\n",
       "      <td>1950.0</td>\n",
       "      <td>45.0</td>\n",
       "      <td>27700.0</td>\n",
       "      <td>1.0</td>\n",
       "      <td>5.0</td>\n",
       "      <td>3.0</td>\n",
       "    </tr>\n",
       "    <tr>\n",
       "      <th>3</th>\n",
       "      <td>112439006</td>\n",
       "      <td>NaN</td>\n",
       "      <td>20400</td>\n",
       "      <td>20400</td>\n",
       "      <td>20400.0</td>\n",
       "      <td>36 months</td>\n",
       "      <td>9.44</td>\n",
       "      <td>652.91</td>\n",
       "      <td>B</td>\n",
       "      <td>B1</td>\n",
       "      <td>...</td>\n",
       "      <td>53566.0</td>\n",
       "      <td>95.0</td>\n",
       "      <td>1.0</td>\n",
       "      <td>2.0</td>\n",
       "      <td>4240.0</td>\n",
       "      <td>60.0</td>\n",
       "      <td>46900.0</td>\n",
       "      <td>1.0</td>\n",
       "      <td>1.0</td>\n",
       "      <td>1.0</td>\n",
       "    </tr>\n",
       "    <tr>\n",
       "      <th>4</th>\n",
       "      <td>112438929</td>\n",
       "      <td>NaN</td>\n",
       "      <td>13000</td>\n",
       "      <td>13000</td>\n",
       "      <td>13000.0</td>\n",
       "      <td>36 months</td>\n",
       "      <td>11.99</td>\n",
       "      <td>431.73</td>\n",
       "      <td>B</td>\n",
       "      <td>B5</td>\n",
       "      <td>...</td>\n",
       "      <td>8466.0</td>\n",
       "      <td>72.0</td>\n",
       "      <td>0.0</td>\n",
       "      <td>1.0</td>\n",
       "      <td>2996.0</td>\n",
       "      <td>78.0</td>\n",
       "      <td>7800.0</td>\n",
       "      <td>0.0</td>\n",
       "      <td>0.0</td>\n",
       "      <td>0.0</td>\n",
       "    </tr>\n",
       "  </tbody>\n",
       "</table>\n",
       "<p>5 rows × 72 columns</p>\n",
       "</div>"
      ],
      "text/plain": [
       "          id  member_id  loan_amnt  funded_amnt  funded_amnt_inv       term  \\\n",
       "0  112435993        NaN       2300         2300           2300.0  36 months   \n",
       "1  112290210        NaN      16000        16000          16000.0  60 months   \n",
       "2  112436985        NaN       6025         6025           6025.0  36 months   \n",
       "3  112439006        NaN      20400        20400          20400.0  36 months   \n",
       "4  112438929        NaN      13000        13000          13000.0  36 months   \n",
       "\n",
       "   int_rate  installment grade sub_grade  ... total_bal_il il_util  \\\n",
       "0     12.62        77.08     C        C1  ...          0.0     NaN   \n",
       "1     12.62       360.95     C        C1  ...      11078.0    69.0   \n",
       "2     15.05       209.01     C        C4  ...          0.0     NaN   \n",
       "3      9.44       652.91     B        B1  ...      53566.0    95.0   \n",
       "4     11.99       431.73     B        B5  ...       8466.0    72.0   \n",
       "\n",
       "  open_rv_12m  open_rv_24m max_bal_bc all_util total_rev_hi_lim inq_fi  \\\n",
       "0         1.0          2.0     2315.0     55.0           7100.0    1.0   \n",
       "1         3.0          5.0     1962.0     94.0          31900.0    0.0   \n",
       "2         1.0          2.0     1950.0     45.0          27700.0    1.0   \n",
       "3         1.0          2.0     4240.0     60.0          46900.0    1.0   \n",
       "4         0.0          1.0     2996.0     78.0           7800.0    0.0   \n",
       "\n",
       "  total_cu_tl inq_last_12m  \n",
       "0         0.0          2.0  \n",
       "1         6.0          1.0  \n",
       "2         5.0          3.0  \n",
       "3         1.0          1.0  \n",
       "4         0.0          0.0  \n",
       "\n",
       "[5 rows x 72 columns]"
      ]
     },
     "execution_count": 64,
     "metadata": {},
     "output_type": "execute_result"
    }
   ],
   "source": [
    "loan_data.head()"
   ]
  },
  {
   "cell_type": "code",
   "execution_count": 65,
   "id": "811b26b9",
   "metadata": {},
   "outputs": [
    {
     "data": {
      "text/plain": [
       "(652853, 72)"
      ]
     },
     "execution_count": 65,
     "metadata": {},
     "output_type": "execute_result"
    }
   ],
   "source": [
    "loan_data.shape"
   ]
  },
  {
   "cell_type": "code",
   "execution_count": 66,
   "id": "6016db31",
   "metadata": {},
   "outputs": [
    {
     "name": "stdout",
     "output_type": "stream",
     "text": [
      "<class 'pandas.core.frame.DataFrame'>\n",
      "RangeIndex: 652853 entries, 0 to 652852\n",
      "Data columns (total 72 columns):\n",
      " #   Column                       Non-Null Count   Dtype  \n",
      "---  ------                       --------------   -----  \n",
      " 0   id                           652853 non-null  int64  \n",
      " 1   member_id                    0 non-null       float64\n",
      " 2   loan_amnt                    652853 non-null  int64  \n",
      " 3   funded_amnt                  652853 non-null  int64  \n",
      " 4   funded_amnt_inv              652853 non-null  float64\n",
      " 5   term                         652853 non-null  object \n",
      " 6   int_rate                     652853 non-null  float64\n",
      " 7   installment                  652853 non-null  float64\n",
      " 8   grade                        652853 non-null  object \n",
      " 9   sub_grade                    652853 non-null  object \n",
      " 10  emp_title                    608923 non-null  object \n",
      " 11  emp_length                   609505 non-null  object \n",
      " 12  home_ownership               652853 non-null  object \n",
      " 13  annual_inc                   652853 non-null  float64\n",
      " 14  verification_status          652853 non-null  object \n",
      " 15  issue_d                      652853 non-null  object \n",
      " 16  loan_status                  652853 non-null  object \n",
      " 17  pymnt_plan                   652853 non-null  object \n",
      " 18  desc                         12 non-null      object \n",
      " 19  purpose                      652853 non-null  object \n",
      " 20  title                        638743 non-null  object \n",
      " 21  zip_code                     652852 non-null  object \n",
      " 22  addr_state                   652853 non-null  object \n",
      " 23  dti                          652506 non-null  float64\n",
      " 24  delinq_2yrs                  652853 non-null  int64  \n",
      " 25  earliest_cr_line             652853 non-null  object \n",
      " 26  inq_last_6mths               652853 non-null  int64  \n",
      " 27  mths_since_last_delinq       341302 non-null  float64\n",
      " 28  mths_since_last_record       122422 non-null  float64\n",
      " 29  open_acc                     652853 non-null  int64  \n",
      " 30  pub_rec                      652853 non-null  int64  \n",
      " 31  revol_bal                    652853 non-null  float64\n",
      " 32  revol_util                   652391 non-null  float64\n",
      " 33  total_acc                    652853 non-null  int64  \n",
      " 34  initial_list_status          652853 non-null  object \n",
      " 35  out_prncp                    652853 non-null  float64\n",
      " 36  out_prncp_inv                652853 non-null  float64\n",
      " 37  total_pymnt                  652853 non-null  float64\n",
      " 38  total_pymnt_inv              652853 non-null  float64\n",
      " 39  total_rec_prncp              652853 non-null  float64\n",
      " 40  total_rec_int                652853 non-null  float64\n",
      " 41  total_rec_late_fee           652853 non-null  float64\n",
      " 42  recoveries                   652853 non-null  float64\n",
      " 43  collection_recovery_fee      652853 non-null  float64\n",
      " 44  last_pymnt_d                 652023 non-null  object \n",
      " 45  last_pymnt_amnt              652853 non-null  float64\n",
      " 46  next_pymnt_d                 526530 non-null  object \n",
      " 47  last_credit_pull_d           652836 non-null  object \n",
      " 48  collections_12_mths_ex_med   652853 non-null  int64  \n",
      " 49  mths_since_last_major_derog  184720 non-null  float64\n",
      " 50  policy_code                  652853 non-null  int64  \n",
      " 51  application_type             652853 non-null  object \n",
      " 52  annual_inc_joint             31966 non-null   float64\n",
      " 53  dti_joint                    31966 non-null   float64\n",
      " 54  verification_status_joint    31966 non-null   object \n",
      " 55  acc_now_delinq               652853 non-null  int64  \n",
      " 56  tot_coll_amt                 652853 non-null  float64\n",
      " 57  tot_cur_bal                  652853 non-null  float64\n",
      " 58  open_acc_6m                  652853 non-null  int64  \n",
      " 59  open_il_12m                  652853 non-null  int64  \n",
      " 60  open_il_24m                  652853 non-null  int64  \n",
      " 61  mths_since_rcnt_il           635224 non-null  float64\n",
      " 62  total_bal_il                 652852 non-null  float64\n",
      " 63  il_util                      566311 non-null  float64\n",
      " 64  open_rv_12m                  652852 non-null  float64\n",
      " 65  open_rv_24m                  652852 non-null  float64\n",
      " 66  max_bal_bc                   652852 non-null  float64\n",
      " 67  all_util                     652803 non-null  float64\n",
      " 68  total_rev_hi_lim             652852 non-null  float64\n",
      " 69  inq_fi                       652852 non-null  float64\n",
      " 70  total_cu_tl                  652852 non-null  float64\n",
      " 71  inq_last_12m                 652852 non-null  float64\n",
      "dtypes: float64(36), int64(14), object(22)\n",
      "memory usage: 358.6+ MB\n"
     ]
    }
   ],
   "source": [
    "loan_data.info()"
   ]
  },
  {
   "cell_type": "code",
   "execution_count": 67,
   "id": "52a10845",
   "metadata": {},
   "outputs": [
    {
     "data": {
      "text/plain": [
       "array(['Current', 'Fully Paid', 'In Grace Period', 'Late (31-120 days)',\n",
       "       'Late (16-30 days)', 'Charged Off', 'Default'], dtype=object)"
      ]
     },
     "execution_count": 67,
     "metadata": {},
     "output_type": "execute_result"
    }
   ],
   "source": [
    "loan_data.loan_status.unique()"
   ]
  },
  {
   "cell_type": "code",
   "execution_count": 68,
   "id": "cefcefb3",
   "metadata": {},
   "outputs": [],
   "source": [
    "loan_data['good_bad'] = np.where(loan_data.loc[:,'loan_status'].isin(['Charged Off', \n",
    "                                                                      'Default', \n",
    "                                                                      'Late (31-120 days)', \n",
    "                                                                      'Late (16-30 days)'])\n",
    "                                 , 1, 0)"
   ]
  },
  {
   "cell_type": "code",
   "execution_count": 69,
   "id": "d0b5dcbd",
   "metadata": {},
   "outputs": [
    {
     "data": {
      "text/plain": [
       "good_bad\n",
       "0    610269\n",
       "1     42584\n",
       "Name: count, dtype: int64"
      ]
     },
     "execution_count": 69,
     "metadata": {},
     "output_type": "execute_result"
    }
   ],
   "source": [
    "loan_data.good_bad.value_counts()"
   ]
  },
  {
   "cell_type": "code",
   "execution_count": 70,
   "id": "2cd04696",
   "metadata": {},
   "outputs": [
    {
     "data": {
      "text/html": [
       "<div>\n",
       "<style scoped>\n",
       "    .dataframe tbody tr th:only-of-type {\n",
       "        vertical-align: middle;\n",
       "    }\n",
       "\n",
       "    .dataframe tbody tr th {\n",
       "        vertical-align: top;\n",
       "    }\n",
       "\n",
       "    .dataframe thead th {\n",
       "        text-align: right;\n",
       "    }\n",
       "</style>\n",
       "<table border=\"1\" class=\"dataframe\">\n",
       "  <thead>\n",
       "    <tr style=\"text-align: right;\">\n",
       "      <th></th>\n",
       "      <th>loan_status</th>\n",
       "      <th>good_bad</th>\n",
       "    </tr>\n",
       "  </thead>\n",
       "  <tbody>\n",
       "    <tr>\n",
       "      <th>0</th>\n",
       "      <td>Current</td>\n",
       "      <td>0</td>\n",
       "    </tr>\n",
       "    <tr>\n",
       "      <th>1</th>\n",
       "      <td>Current</td>\n",
       "      <td>0</td>\n",
       "    </tr>\n",
       "    <tr>\n",
       "      <th>2</th>\n",
       "      <td>Current</td>\n",
       "      <td>0</td>\n",
       "    </tr>\n",
       "    <tr>\n",
       "      <th>3</th>\n",
       "      <td>Current</td>\n",
       "      <td>0</td>\n",
       "    </tr>\n",
       "    <tr>\n",
       "      <th>4</th>\n",
       "      <td>Current</td>\n",
       "      <td>0</td>\n",
       "    </tr>\n",
       "    <tr>\n",
       "      <th>...</th>\n",
       "      <td>...</td>\n",
       "      <td>...</td>\n",
       "    </tr>\n",
       "    <tr>\n",
       "      <th>652848</th>\n",
       "      <td>Current</td>\n",
       "      <td>0</td>\n",
       "    </tr>\n",
       "    <tr>\n",
       "      <th>652849</th>\n",
       "      <td>Charged Off</td>\n",
       "      <td>1</td>\n",
       "    </tr>\n",
       "    <tr>\n",
       "      <th>652850</th>\n",
       "      <td>Current</td>\n",
       "      <td>0</td>\n",
       "    </tr>\n",
       "    <tr>\n",
       "      <th>652851</th>\n",
       "      <td>Current</td>\n",
       "      <td>0</td>\n",
       "    </tr>\n",
       "    <tr>\n",
       "      <th>652852</th>\n",
       "      <td>Fully Paid</td>\n",
       "      <td>0</td>\n",
       "    </tr>\n",
       "  </tbody>\n",
       "</table>\n",
       "<p>652853 rows × 2 columns</p>\n",
       "</div>"
      ],
      "text/plain": [
       "        loan_status  good_bad\n",
       "0           Current         0\n",
       "1           Current         0\n",
       "2           Current         0\n",
       "3           Current         0\n",
       "4           Current         0\n",
       "...             ...       ...\n",
       "652848      Current         0\n",
       "652849  Charged Off         1\n",
       "652850      Current         0\n",
       "652851      Current         0\n",
       "652852   Fully Paid         0\n",
       "\n",
       "[652853 rows x 2 columns]"
      ]
     },
     "execution_count": 70,
     "metadata": {},
     "output_type": "execute_result"
    }
   ],
   "source": [
    "loan_data[['loan_status', 'good_bad']]"
   ]
  },
  {
   "cell_type": "markdown",
   "id": "85c9030a",
   "metadata": {},
   "source": [
    "# 3. Missing Values"
   ]
  },
  {
   "cell_type": "code",
   "execution_count": 71,
   "id": "882cc930",
   "metadata": {},
   "outputs": [],
   "source": [
    "missing_values = pd.DataFrame(loan_data.isnull().sum()/loan_data.shape[0])"
   ]
  },
  {
   "cell_type": "code",
   "execution_count": 72,
   "id": "22fd9347",
   "metadata": {},
   "outputs": [],
   "source": [
    "missing_values = missing_values[missing_values.iloc[:,0] > 0.50]"
   ]
  },
  {
   "cell_type": "code",
   "execution_count": 73,
   "id": "a8d6861a",
   "metadata": {},
   "outputs": [
    {
     "data": {
      "text/html": [
       "<div>\n",
       "<style scoped>\n",
       "    .dataframe tbody tr th:only-of-type {\n",
       "        vertical-align: middle;\n",
       "    }\n",
       "\n",
       "    .dataframe tbody tr th {\n",
       "        vertical-align: top;\n",
       "    }\n",
       "\n",
       "    .dataframe thead th {\n",
       "        text-align: right;\n",
       "    }\n",
       "</style>\n",
       "<table border=\"1\" class=\"dataframe\">\n",
       "  <thead>\n",
       "    <tr style=\"text-align: right;\">\n",
       "      <th></th>\n",
       "      <th>0</th>\n",
       "    </tr>\n",
       "  </thead>\n",
       "  <tbody>\n",
       "    <tr>\n",
       "      <th>member_id</th>\n",
       "      <td>1.000000</td>\n",
       "    </tr>\n",
       "    <tr>\n",
       "      <th>desc</th>\n",
       "      <td>0.999982</td>\n",
       "    </tr>\n",
       "    <tr>\n",
       "      <th>annual_inc_joint</th>\n",
       "      <td>0.951036</td>\n",
       "    </tr>\n",
       "    <tr>\n",
       "      <th>dti_joint</th>\n",
       "      <td>0.951036</td>\n",
       "    </tr>\n",
       "    <tr>\n",
       "      <th>verification_status_joint</th>\n",
       "      <td>0.951036</td>\n",
       "    </tr>\n",
       "    <tr>\n",
       "      <th>mths_since_last_record</th>\n",
       "      <td>0.812482</td>\n",
       "    </tr>\n",
       "    <tr>\n",
       "      <th>mths_since_last_major_derog</th>\n",
       "      <td>0.717057</td>\n",
       "    </tr>\n",
       "  </tbody>\n",
       "</table>\n",
       "</div>"
      ],
      "text/plain": [
       "                                    0\n",
       "member_id                    1.000000\n",
       "desc                         0.999982\n",
       "annual_inc_joint             0.951036\n",
       "dti_joint                    0.951036\n",
       "verification_status_joint    0.951036\n",
       "mths_since_last_record       0.812482\n",
       "mths_since_last_major_derog  0.717057"
      ]
     },
     "execution_count": 73,
     "metadata": {},
     "output_type": "execute_result"
    }
   ],
   "source": [
    "missing_values.sort_values([0], ascending = False)"
   ]
  },
  {
   "cell_type": "code",
   "execution_count": 74,
   "id": "43d6633f",
   "metadata": {},
   "outputs": [],
   "source": [
    "loan_data.dropna(thresh = loan_data.shape[0]*0.5, axis = 1, inplace = True)"
   ]
  },
  {
   "cell_type": "code",
   "execution_count": 75,
   "id": "2ba7f2a8",
   "metadata": {},
   "outputs": [
    {
     "data": {
      "text/html": [
       "<div>\n",
       "<style scoped>\n",
       "    .dataframe tbody tr th:only-of-type {\n",
       "        vertical-align: middle;\n",
       "    }\n",
       "\n",
       "    .dataframe tbody tr th {\n",
       "        vertical-align: top;\n",
       "    }\n",
       "\n",
       "    .dataframe thead th {\n",
       "        text-align: right;\n",
       "    }\n",
       "</style>\n",
       "<table border=\"1\" class=\"dataframe\">\n",
       "  <thead>\n",
       "    <tr style=\"text-align: right;\">\n",
       "      <th></th>\n",
       "      <th>0</th>\n",
       "    </tr>\n",
       "  </thead>\n",
       "  <tbody>\n",
       "  </tbody>\n",
       "</table>\n",
       "</div>"
      ],
      "text/plain": [
       "Empty DataFrame\n",
       "Columns: [0]\n",
       "Index: []"
      ]
     },
     "execution_count": 75,
     "metadata": {},
     "output_type": "execute_result"
    }
   ],
   "source": [
    "missing_values = pd.DataFrame(loan_data.isnull().sum()/loan_data.shape[0])\n",
    "missing_values = missing_values[missing_values.iloc[:,0] > 0.50]\n",
    "missing_values.sort_values([0], ascending = False)"
   ]
  },
  {
   "cell_type": "code",
   "execution_count": 76,
   "id": "aef75fe2",
   "metadata": {},
   "outputs": [
    {
     "data": {
      "text/html": [
       "<div>\n",
       "<style scoped>\n",
       "    .dataframe tbody tr th:only-of-type {\n",
       "        vertical-align: middle;\n",
       "    }\n",
       "\n",
       "    .dataframe tbody tr th {\n",
       "        vertical-align: top;\n",
       "    }\n",
       "\n",
       "    .dataframe thead th {\n",
       "        text-align: right;\n",
       "    }\n",
       "</style>\n",
       "<table border=\"1\" class=\"dataframe\">\n",
       "  <thead>\n",
       "    <tr style=\"text-align: right;\">\n",
       "      <th></th>\n",
       "      <th>id</th>\n",
       "      <th>loan_amnt</th>\n",
       "      <th>funded_amnt</th>\n",
       "      <th>funded_amnt_inv</th>\n",
       "      <th>term</th>\n",
       "      <th>int_rate</th>\n",
       "      <th>installment</th>\n",
       "      <th>grade</th>\n",
       "      <th>sub_grade</th>\n",
       "      <th>emp_title</th>\n",
       "      <th>...</th>\n",
       "      <th>il_util</th>\n",
       "      <th>open_rv_12m</th>\n",
       "      <th>open_rv_24m</th>\n",
       "      <th>max_bal_bc</th>\n",
       "      <th>all_util</th>\n",
       "      <th>total_rev_hi_lim</th>\n",
       "      <th>inq_fi</th>\n",
       "      <th>total_cu_tl</th>\n",
       "      <th>inq_last_12m</th>\n",
       "      <th>good_bad</th>\n",
       "    </tr>\n",
       "  </thead>\n",
       "  <tbody>\n",
       "    <tr>\n",
       "      <th>0</th>\n",
       "      <td>112435993</td>\n",
       "      <td>2300</td>\n",
       "      <td>2300</td>\n",
       "      <td>2300.0</td>\n",
       "      <td>36 months</td>\n",
       "      <td>12.62</td>\n",
       "      <td>77.08</td>\n",
       "      <td>C</td>\n",
       "      <td>C1</td>\n",
       "      <td>NaN</td>\n",
       "      <td>...</td>\n",
       "      <td>NaN</td>\n",
       "      <td>1.0</td>\n",
       "      <td>2.0</td>\n",
       "      <td>2315.0</td>\n",
       "      <td>55.0</td>\n",
       "      <td>7100.0</td>\n",
       "      <td>1.0</td>\n",
       "      <td>0.0</td>\n",
       "      <td>2.0</td>\n",
       "      <td>0</td>\n",
       "    </tr>\n",
       "    <tr>\n",
       "      <th>1</th>\n",
       "      <td>112290210</td>\n",
       "      <td>16000</td>\n",
       "      <td>16000</td>\n",
       "      <td>16000.0</td>\n",
       "      <td>60 months</td>\n",
       "      <td>12.62</td>\n",
       "      <td>360.95</td>\n",
       "      <td>C</td>\n",
       "      <td>C1</td>\n",
       "      <td>teacher</td>\n",
       "      <td>...</td>\n",
       "      <td>69.0</td>\n",
       "      <td>3.0</td>\n",
       "      <td>5.0</td>\n",
       "      <td>1962.0</td>\n",
       "      <td>94.0</td>\n",
       "      <td>31900.0</td>\n",
       "      <td>0.0</td>\n",
       "      <td>6.0</td>\n",
       "      <td>1.0</td>\n",
       "      <td>0</td>\n",
       "    </tr>\n",
       "    <tr>\n",
       "      <th>2</th>\n",
       "      <td>112436985</td>\n",
       "      <td>6025</td>\n",
       "      <td>6025</td>\n",
       "      <td>6025.0</td>\n",
       "      <td>36 months</td>\n",
       "      <td>15.05</td>\n",
       "      <td>209.01</td>\n",
       "      <td>C</td>\n",
       "      <td>C4</td>\n",
       "      <td>Front Office</td>\n",
       "      <td>...</td>\n",
       "      <td>NaN</td>\n",
       "      <td>1.0</td>\n",
       "      <td>2.0</td>\n",
       "      <td>1950.0</td>\n",
       "      <td>45.0</td>\n",
       "      <td>27700.0</td>\n",
       "      <td>1.0</td>\n",
       "      <td>5.0</td>\n",
       "      <td>3.0</td>\n",
       "      <td>0</td>\n",
       "    </tr>\n",
       "    <tr>\n",
       "      <th>3</th>\n",
       "      <td>112439006</td>\n",
       "      <td>20400</td>\n",
       "      <td>20400</td>\n",
       "      <td>20400.0</td>\n",
       "      <td>36 months</td>\n",
       "      <td>9.44</td>\n",
       "      <td>652.91</td>\n",
       "      <td>B</td>\n",
       "      <td>B1</td>\n",
       "      <td>Manager</td>\n",
       "      <td>...</td>\n",
       "      <td>95.0</td>\n",
       "      <td>1.0</td>\n",
       "      <td>2.0</td>\n",
       "      <td>4240.0</td>\n",
       "      <td>60.0</td>\n",
       "      <td>46900.0</td>\n",
       "      <td>1.0</td>\n",
       "      <td>1.0</td>\n",
       "      <td>1.0</td>\n",
       "      <td>0</td>\n",
       "    </tr>\n",
       "    <tr>\n",
       "      <th>4</th>\n",
       "      <td>112438929</td>\n",
       "      <td>13000</td>\n",
       "      <td>13000</td>\n",
       "      <td>13000.0</td>\n",
       "      <td>36 months</td>\n",
       "      <td>11.99</td>\n",
       "      <td>431.73</td>\n",
       "      <td>B</td>\n",
       "      <td>B5</td>\n",
       "      <td>Paramedic</td>\n",
       "      <td>...</td>\n",
       "      <td>72.0</td>\n",
       "      <td>0.0</td>\n",
       "      <td>1.0</td>\n",
       "      <td>2996.0</td>\n",
       "      <td>78.0</td>\n",
       "      <td>7800.0</td>\n",
       "      <td>0.0</td>\n",
       "      <td>0.0</td>\n",
       "      <td>0.0</td>\n",
       "      <td>0</td>\n",
       "    </tr>\n",
       "  </tbody>\n",
       "</table>\n",
       "<p>5 rows × 66 columns</p>\n",
       "</div>"
      ],
      "text/plain": [
       "          id  loan_amnt  funded_amnt  funded_amnt_inv       term  int_rate  \\\n",
       "0  112435993       2300         2300           2300.0  36 months     12.62   \n",
       "1  112290210      16000        16000          16000.0  60 months     12.62   \n",
       "2  112436985       6025         6025           6025.0  36 months     15.05   \n",
       "3  112439006      20400        20400          20400.0  36 months      9.44   \n",
       "4  112438929      13000        13000          13000.0  36 months     11.99   \n",
       "\n",
       "   installment grade sub_grade     emp_title  ... il_util open_rv_12m  \\\n",
       "0        77.08     C        C1           NaN  ...     NaN         1.0   \n",
       "1       360.95     C        C1       teacher  ...    69.0         3.0   \n",
       "2       209.01     C        C4  Front Office  ...     NaN         1.0   \n",
       "3       652.91     B        B1       Manager  ...    95.0         1.0   \n",
       "4       431.73     B        B5     Paramedic  ...    72.0         0.0   \n",
       "\n",
       "   open_rv_24m max_bal_bc all_util total_rev_hi_lim inq_fi total_cu_tl  \\\n",
       "0          2.0     2315.0     55.0           7100.0    1.0         0.0   \n",
       "1          5.0     1962.0     94.0          31900.0    0.0         6.0   \n",
       "2          2.0     1950.0     45.0          27700.0    1.0         5.0   \n",
       "3          2.0     4240.0     60.0          46900.0    1.0         1.0   \n",
       "4          1.0     2996.0     78.0           7800.0    0.0         0.0   \n",
       "\n",
       "  inq_last_12m good_bad  \n",
       "0          2.0        0  \n",
       "1          1.0        0  \n",
       "2          3.0        0  \n",
       "3          1.0        0  \n",
       "4          0.0        0  \n",
       "\n",
       "[5 rows x 66 columns]"
      ]
     },
     "execution_count": 76,
     "metadata": {},
     "output_type": "execute_result"
    }
   ],
   "source": [
    "loan_data.head()"
   ]
  },
  {
   "cell_type": "markdown",
   "id": "7214ebc2",
   "metadata": {},
   "source": [
    "# 4. Data Splitting"
   ]
  },
  {
   "cell_type": "code",
   "execution_count": 77,
   "id": "3b89e004",
   "metadata": {},
   "outputs": [
    {
     "data": {
      "text/plain": [
       "(652853, 66)"
      ]
     },
     "execution_count": 77,
     "metadata": {},
     "output_type": "execute_result"
    }
   ],
   "source": [
    "loan_data.shape"
   ]
  },
  {
   "cell_type": "code",
   "execution_count": 78,
   "id": "22f2f469",
   "metadata": {},
   "outputs": [],
   "source": [
    "from sklearn.model_selection import train_test_split"
   ]
  },
  {
   "cell_type": "markdown",
   "id": "294a0a07",
   "metadata": {},
   "source": [
    "## Membagi Dataset - 80% train set dan 20% test set"
   ]
  },
  {
   "cell_type": "code",
   "execution_count": 79,
   "id": "b1e9cd8c",
   "metadata": {},
   "outputs": [],
   "source": [
    "X = loan_data.drop('good_bad', axis = 1)\n",
    "y = loan_data['good_bad']\n",
    "\n",
    "X_train, X_test, y_train, y_test = train_test_split(X, y , test_size = 0.2, stratify = y, random_state = 42)"
   ]
  },
  {
   "cell_type": "code",
   "execution_count": 80,
   "id": "5dfc9ab8",
   "metadata": {},
   "outputs": [
    {
     "data": {
      "text/plain": [
       "((522282, 65), (130571, 65))"
      ]
     },
     "execution_count": 80,
     "metadata": {},
     "output_type": "execute_result"
    }
   ],
   "source": [
    "X_train.shape, X_test.shape"
   ]
  },
  {
   "cell_type": "code",
   "execution_count": 81,
   "id": "625386f9",
   "metadata": {},
   "outputs": [
    {
     "data": {
      "text/plain": [
       "good_bad\n",
       "0    0.934773\n",
       "1    0.065227\n",
       "Name: proportion, dtype: float64"
      ]
     },
     "execution_count": 81,
     "metadata": {},
     "output_type": "execute_result"
    }
   ],
   "source": [
    "y_train.value_counts(normalize=True)"
   ]
  },
  {
   "cell_type": "code",
   "execution_count": 82,
   "id": "a4d6963a",
   "metadata": {},
   "outputs": [
    {
     "data": {
      "text/plain": [
       "good_bad\n",
       "0    0.934771\n",
       "1    0.065229\n",
       "Name: proportion, dtype: float64"
      ]
     },
     "execution_count": 82,
     "metadata": {},
     "output_type": "execute_result"
    }
   ],
   "source": [
    "y_test.value_counts(normalize = True)"
   ]
  },
  {
   "cell_type": "markdown",
   "id": "780fb426",
   "metadata": {},
   "source": [
    "## 5. Data Cleaning"
   ]
  },
  {
   "cell_type": "code",
   "execution_count": 83,
   "id": "8a3c4cb4",
   "metadata": {},
   "outputs": [
    {
     "data": {
      "text/plain": [
       "(522282, 65)"
      ]
     },
     "execution_count": 83,
     "metadata": {},
     "output_type": "execute_result"
    }
   ],
   "source": [
    "X_train.shape"
   ]
  },
  {
   "cell_type": "code",
   "execution_count": 84,
   "id": "ec5e38b9",
   "metadata": {},
   "outputs": [
    {
     "data": {
      "text/html": [
       "<div>\n",
       "<style scoped>\n",
       "    .dataframe tbody tr th:only-of-type {\n",
       "        vertical-align: middle;\n",
       "    }\n",
       "\n",
       "    .dataframe tbody tr th {\n",
       "        vertical-align: top;\n",
       "    }\n",
       "\n",
       "    .dataframe thead th {\n",
       "        text-align: right;\n",
       "    }\n",
       "</style>\n",
       "<table border=\"1\" class=\"dataframe\">\n",
       "  <thead>\n",
       "    <tr style=\"text-align: right;\">\n",
       "      <th></th>\n",
       "      <th>term</th>\n",
       "      <th>grade</th>\n",
       "      <th>sub_grade</th>\n",
       "      <th>emp_title</th>\n",
       "      <th>emp_length</th>\n",
       "      <th>home_ownership</th>\n",
       "      <th>verification_status</th>\n",
       "      <th>issue_d</th>\n",
       "      <th>loan_status</th>\n",
       "      <th>pymnt_plan</th>\n",
       "      <th>purpose</th>\n",
       "      <th>title</th>\n",
       "      <th>zip_code</th>\n",
       "      <th>addr_state</th>\n",
       "      <th>earliest_cr_line</th>\n",
       "      <th>initial_list_status</th>\n",
       "      <th>last_pymnt_d</th>\n",
       "      <th>next_pymnt_d</th>\n",
       "      <th>last_credit_pull_d</th>\n",
       "      <th>application_type</th>\n",
       "    </tr>\n",
       "  </thead>\n",
       "  <tbody>\n",
       "    <tr>\n",
       "      <th>381958</th>\n",
       "      <td>36 months</td>\n",
       "      <td>A</td>\n",
       "      <td>A5</td>\n",
       "      <td>Customer Service</td>\n",
       "      <td>2 years</td>\n",
       "      <td>OWN</td>\n",
       "      <td>Not Verified</td>\n",
       "      <td>Aug-2017</td>\n",
       "      <td>Current</td>\n",
       "      <td>n</td>\n",
       "      <td>other</td>\n",
       "      <td>Other</td>\n",
       "      <td>870xx</td>\n",
       "      <td>NM</td>\n",
       "      <td>Nov-1993</td>\n",
       "      <td>f</td>\n",
       "      <td>Dec-2017</td>\n",
       "      <td>Jan-2018</td>\n",
       "      <td>Dec-2017</td>\n",
       "      <td>Individual</td>\n",
       "    </tr>\n",
       "    <tr>\n",
       "      <th>135266</th>\n",
       "      <td>60 months</td>\n",
       "      <td>C</td>\n",
       "      <td>C3</td>\n",
       "      <td>Registered Nurse</td>\n",
       "      <td>5 years</td>\n",
       "      <td>RENT</td>\n",
       "      <td>Source Verified</td>\n",
       "      <td>Mar-2017</td>\n",
       "      <td>Fully Paid</td>\n",
       "      <td>n</td>\n",
       "      <td>credit_card</td>\n",
       "      <td>Credit card refinancing</td>\n",
       "      <td>935xx</td>\n",
       "      <td>CA</td>\n",
       "      <td>Aug-2001</td>\n",
       "      <td>w</td>\n",
       "      <td>Sep-2017</td>\n",
       "      <td>NaN</td>\n",
       "      <td>Dec-2017</td>\n",
       "      <td>Individual</td>\n",
       "    </tr>\n",
       "    <tr>\n",
       "      <th>451467</th>\n",
       "      <td>60 months</td>\n",
       "      <td>E</td>\n",
       "      <td>E3</td>\n",
       "      <td>Senior Operations Manager</td>\n",
       "      <td>10+ years</td>\n",
       "      <td>MORTGAGE</td>\n",
       "      <td>Verified</td>\n",
       "      <td>Jun-2016</td>\n",
       "      <td>Fully Paid</td>\n",
       "      <td>n</td>\n",
       "      <td>credit_card</td>\n",
       "      <td>Credit card refinancing</td>\n",
       "      <td>150xx</td>\n",
       "      <td>PA</td>\n",
       "      <td>Jan-1998</td>\n",
       "      <td>w</td>\n",
       "      <td>Jan-2017</td>\n",
       "      <td>NaN</td>\n",
       "      <td>Jan-2017</td>\n",
       "      <td>Individual</td>\n",
       "    </tr>\n",
       "    <tr>\n",
       "      <th>596565</th>\n",
       "      <td>60 months</td>\n",
       "      <td>D</td>\n",
       "      <td>D2</td>\n",
       "      <td>NaN</td>\n",
       "      <td>NaN</td>\n",
       "      <td>RENT</td>\n",
       "      <td>Not Verified</td>\n",
       "      <td>Oct-2016</td>\n",
       "      <td>Current</td>\n",
       "      <td>n</td>\n",
       "      <td>debt_consolidation</td>\n",
       "      <td>Debt consolidation</td>\n",
       "      <td>376xx</td>\n",
       "      <td>TN</td>\n",
       "      <td>Nov-1994</td>\n",
       "      <td>w</td>\n",
       "      <td>Dec-2017</td>\n",
       "      <td>Jan-2018</td>\n",
       "      <td>Dec-2017</td>\n",
       "      <td>Individual</td>\n",
       "    </tr>\n",
       "    <tr>\n",
       "      <th>72200</th>\n",
       "      <td>60 months</td>\n",
       "      <td>B</td>\n",
       "      <td>B5</td>\n",
       "      <td>Project Manager / Analyst</td>\n",
       "      <td>8 years</td>\n",
       "      <td>RENT</td>\n",
       "      <td>Verified</td>\n",
       "      <td>May-2017</td>\n",
       "      <td>Current</td>\n",
       "      <td>n</td>\n",
       "      <td>debt_consolidation</td>\n",
       "      <td>Debt consolidation</td>\n",
       "      <td>125xx</td>\n",
       "      <td>NY</td>\n",
       "      <td>Nov-2004</td>\n",
       "      <td>w</td>\n",
       "      <td>Dec-2017</td>\n",
       "      <td>Jan-2018</td>\n",
       "      <td>Dec-2017</td>\n",
       "      <td>Individual</td>\n",
       "    </tr>\n",
       "    <tr>\n",
       "      <th>...</th>\n",
       "      <td>...</td>\n",
       "      <td>...</td>\n",
       "      <td>...</td>\n",
       "      <td>...</td>\n",
       "      <td>...</td>\n",
       "      <td>...</td>\n",
       "      <td>...</td>\n",
       "      <td>...</td>\n",
       "      <td>...</td>\n",
       "      <td>...</td>\n",
       "      <td>...</td>\n",
       "      <td>...</td>\n",
       "      <td>...</td>\n",
       "      <td>...</td>\n",
       "      <td>...</td>\n",
       "      <td>...</td>\n",
       "      <td>...</td>\n",
       "      <td>...</td>\n",
       "      <td>...</td>\n",
       "      <td>...</td>\n",
       "    </tr>\n",
       "    <tr>\n",
       "      <th>501469</th>\n",
       "      <td>36 months</td>\n",
       "      <td>A</td>\n",
       "      <td>A1</td>\n",
       "      <td>Computer Programmer</td>\n",
       "      <td>10+ years</td>\n",
       "      <td>MORTGAGE</td>\n",
       "      <td>Source Verified</td>\n",
       "      <td>Apr-2016</td>\n",
       "      <td>Current</td>\n",
       "      <td>n</td>\n",
       "      <td>home_improvement</td>\n",
       "      <td>Home improvement</td>\n",
       "      <td>685xx</td>\n",
       "      <td>NE</td>\n",
       "      <td>Mar-1993</td>\n",
       "      <td>w</td>\n",
       "      <td>Dec-2017</td>\n",
       "      <td>Jan-2018</td>\n",
       "      <td>Dec-2017</td>\n",
       "      <td>Individual</td>\n",
       "    </tr>\n",
       "    <tr>\n",
       "      <th>23753</th>\n",
       "      <td>60 months</td>\n",
       "      <td>C</td>\n",
       "      <td>C2</td>\n",
       "      <td>Finance Director</td>\n",
       "      <td>10+ years</td>\n",
       "      <td>MORTGAGE</td>\n",
       "      <td>Not Verified</td>\n",
       "      <td>Jun-2017</td>\n",
       "      <td>Current</td>\n",
       "      <td>n</td>\n",
       "      <td>car</td>\n",
       "      <td>Car financing</td>\n",
       "      <td>275xx</td>\n",
       "      <td>NC</td>\n",
       "      <td>Apr-1996</td>\n",
       "      <td>w</td>\n",
       "      <td>Dec-2017</td>\n",
       "      <td>Jan-2018</td>\n",
       "      <td>Dec-2017</td>\n",
       "      <td>Individual</td>\n",
       "    </tr>\n",
       "    <tr>\n",
       "      <th>576159</th>\n",
       "      <td>60 months</td>\n",
       "      <td>B</td>\n",
       "      <td>B4</td>\n",
       "      <td>Category Manager</td>\n",
       "      <td>10+ years</td>\n",
       "      <td>MORTGAGE</td>\n",
       "      <td>Source Verified</td>\n",
       "      <td>Nov-2016</td>\n",
       "      <td>Current</td>\n",
       "      <td>n</td>\n",
       "      <td>credit_card</td>\n",
       "      <td>Credit card refinancing</td>\n",
       "      <td>410xx</td>\n",
       "      <td>KY</td>\n",
       "      <td>Aug-2002</td>\n",
       "      <td>w</td>\n",
       "      <td>Dec-2017</td>\n",
       "      <td>Jan-2018</td>\n",
       "      <td>Dec-2017</td>\n",
       "      <td>Individual</td>\n",
       "    </tr>\n",
       "    <tr>\n",
       "      <th>88067</th>\n",
       "      <td>36 months</td>\n",
       "      <td>A</td>\n",
       "      <td>A2</td>\n",
       "      <td>SVP Business Development</td>\n",
       "      <td>10+ years</td>\n",
       "      <td>MORTGAGE</td>\n",
       "      <td>Verified</td>\n",
       "      <td>Apr-2017</td>\n",
       "      <td>Current</td>\n",
       "      <td>n</td>\n",
       "      <td>car</td>\n",
       "      <td>Car financing</td>\n",
       "      <td>750xx</td>\n",
       "      <td>TX</td>\n",
       "      <td>Mar-1983</td>\n",
       "      <td>f</td>\n",
       "      <td>Dec-2017</td>\n",
       "      <td>Jan-2018</td>\n",
       "      <td>Dec-2017</td>\n",
       "      <td>Individual</td>\n",
       "    </tr>\n",
       "    <tr>\n",
       "      <th>285515</th>\n",
       "      <td>36 months</td>\n",
       "      <td>B</td>\n",
       "      <td>B4</td>\n",
       "      <td>Marketinf</td>\n",
       "      <td>10+ years</td>\n",
       "      <td>MORTGAGE</td>\n",
       "      <td>Not Verified</td>\n",
       "      <td>Jul-2016</td>\n",
       "      <td>Current</td>\n",
       "      <td>n</td>\n",
       "      <td>small_business</td>\n",
       "      <td>Business</td>\n",
       "      <td>448xx</td>\n",
       "      <td>OH</td>\n",
       "      <td>Aug-1987</td>\n",
       "      <td>w</td>\n",
       "      <td>Dec-2017</td>\n",
       "      <td>Jan-2018</td>\n",
       "      <td>Dec-2017</td>\n",
       "      <td>Individual</td>\n",
       "    </tr>\n",
       "  </tbody>\n",
       "</table>\n",
       "<p>522282 rows × 20 columns</p>\n",
       "</div>"
      ],
      "text/plain": [
       "             term grade sub_grade                  emp_title emp_length  \\\n",
       "381958  36 months     A        A5           Customer Service    2 years   \n",
       "135266  60 months     C        C3           Registered Nurse    5 years   \n",
       "451467  60 months     E        E3  Senior Operations Manager  10+ years   \n",
       "596565  60 months     D        D2                        NaN        NaN   \n",
       "72200   60 months     B        B5  Project Manager / Analyst    8 years   \n",
       "...           ...   ...       ...                        ...        ...   \n",
       "501469  36 months     A        A1        Computer Programmer  10+ years   \n",
       "23753   60 months     C        C2           Finance Director  10+ years   \n",
       "576159  60 months     B        B4           Category Manager  10+ years   \n",
       "88067   36 months     A        A2   SVP Business Development  10+ years   \n",
       "285515  36 months     B        B4                  Marketinf  10+ years   \n",
       "\n",
       "       home_ownership verification_status   issue_d loan_status pymnt_plan  \\\n",
       "381958            OWN        Not Verified  Aug-2017     Current          n   \n",
       "135266           RENT     Source Verified  Mar-2017  Fully Paid          n   \n",
       "451467       MORTGAGE            Verified  Jun-2016  Fully Paid          n   \n",
       "596565           RENT        Not Verified  Oct-2016     Current          n   \n",
       "72200            RENT            Verified  May-2017     Current          n   \n",
       "...               ...                 ...       ...         ...        ...   \n",
       "501469       MORTGAGE     Source Verified  Apr-2016     Current          n   \n",
       "23753        MORTGAGE        Not Verified  Jun-2017     Current          n   \n",
       "576159       MORTGAGE     Source Verified  Nov-2016     Current          n   \n",
       "88067        MORTGAGE            Verified  Apr-2017     Current          n   \n",
       "285515       MORTGAGE        Not Verified  Jul-2016     Current          n   \n",
       "\n",
       "                   purpose                    title zip_code addr_state  \\\n",
       "381958               other                    Other    870xx         NM   \n",
       "135266         credit_card  Credit card refinancing    935xx         CA   \n",
       "451467         credit_card  Credit card refinancing    150xx         PA   \n",
       "596565  debt_consolidation       Debt consolidation    376xx         TN   \n",
       "72200   debt_consolidation       Debt consolidation    125xx         NY   \n",
       "...                    ...                      ...      ...        ...   \n",
       "501469    home_improvement         Home improvement    685xx         NE   \n",
       "23753                  car            Car financing    275xx         NC   \n",
       "576159         credit_card  Credit card refinancing    410xx         KY   \n",
       "88067                  car            Car financing    750xx         TX   \n",
       "285515      small_business                 Business    448xx         OH   \n",
       "\n",
       "       earliest_cr_line initial_list_status last_pymnt_d next_pymnt_d  \\\n",
       "381958         Nov-1993                   f     Dec-2017     Jan-2018   \n",
       "135266         Aug-2001                   w     Sep-2017          NaN   \n",
       "451467         Jan-1998                   w     Jan-2017          NaN   \n",
       "596565         Nov-1994                   w     Dec-2017     Jan-2018   \n",
       "72200          Nov-2004                   w     Dec-2017     Jan-2018   \n",
       "...                 ...                 ...          ...          ...   \n",
       "501469         Mar-1993                   w     Dec-2017     Jan-2018   \n",
       "23753          Apr-1996                   w     Dec-2017     Jan-2018   \n",
       "576159         Aug-2002                   w     Dec-2017     Jan-2018   \n",
       "88067          Mar-1983                   f     Dec-2017     Jan-2018   \n",
       "285515         Aug-1987                   w     Dec-2017     Jan-2018   \n",
       "\n",
       "       last_credit_pull_d application_type  \n",
       "381958           Dec-2017       Individual  \n",
       "135266           Dec-2017       Individual  \n",
       "451467           Jan-2017       Individual  \n",
       "596565           Dec-2017       Individual  \n",
       "72200            Dec-2017       Individual  \n",
       "...                   ...              ...  \n",
       "501469           Dec-2017       Individual  \n",
       "23753            Dec-2017       Individual  \n",
       "576159           Dec-2017       Individual  \n",
       "88067            Dec-2017       Individual  \n",
       "285515           Dec-2017       Individual  \n",
       "\n",
       "[522282 rows x 20 columns]"
      ]
     },
     "execution_count": 84,
     "metadata": {},
     "output_type": "execute_result"
    }
   ],
   "source": [
    "X_train.select_dtypes(include = ['object', 'bool'])"
   ]
  },
  {
   "cell_type": "code",
   "execution_count": 85,
   "id": "db16a204",
   "metadata": {},
   "outputs": [
    {
     "name": "stdout",
     "output_type": "stream",
     "text": [
      "term\n",
      "['36 months' '60 months']\n",
      "\n",
      "grade\n",
      "['A' 'C' 'E' 'D' 'B' 'F' 'G']\n",
      "\n",
      "sub_grade\n",
      "['A5' 'C3' 'E3' 'D2' 'B5' 'B1' 'B3' 'B2' 'E4' 'C1' 'D5' 'A1' 'B4' 'F3'\n",
      " 'C2' 'C5' 'E2' 'E5' 'A2' 'D3' 'C4' 'A4' 'A3' 'D1' 'F2' 'D4' 'E1' 'F4'\n",
      " 'F5' 'G5' 'G2' 'F1' 'G4' 'G3' 'G1']\n",
      "\n",
      "emp_title\n",
      "['Customer Service' 'Registered Nurse' 'Senior Operations Manager' ...\n",
      " 'IT/Offoice Manager' 'Child Support Officer III' 'Marketinf']\n",
      "\n",
      "emp_length\n",
      "['2 years' '5 years' '10+ years' nan '8 years' '6 years' '9 years'\n",
      " '3 years' '4 years' '7 years' '< 1 year' '1 year']\n",
      "\n",
      "home_ownership\n",
      "['OWN' 'RENT' 'MORTGAGE' 'ANY' 'NONE']\n",
      "\n",
      "verification_status\n",
      "['Not Verified' 'Source Verified' 'Verified']\n",
      "\n",
      "issue_d\n",
      "['Aug-2017' 'Mar-2017' 'Jun-2016' 'Oct-2016' 'May-2017' 'Dec-2016'\n",
      " 'Nov-2016' 'Jul-2016' 'Feb-2017' 'Aug-2016' 'Mar-2016' 'Apr-2017'\n",
      " 'Jul-2017' 'Sep-2017' 'Jan-2017' 'Apr-2016' 'May-2016' 'Sep-2016'\n",
      " 'Jun-2017']\n",
      "\n",
      "loan_status\n",
      "['Current' 'Fully Paid' 'Charged Off' 'Late (16-30 days)'\n",
      " 'Late (31-120 days)' 'In Grace Period' 'Default']\n",
      "\n",
      "pymnt_plan\n",
      "['n' 'y']\n",
      "\n",
      "purpose\n",
      "['other' 'credit_card' 'debt_consolidation' 'moving' 'home_improvement'\n",
      " 'car' 'house' 'vacation' 'medical' 'major_purchase' 'small_business'\n",
      " 'renewable_energy' 'wedding']\n",
      "\n",
      "title\n",
      "['Other' 'Credit card refinancing' 'Debt consolidation'\n",
      " 'Moving and relocation' 'Home improvement' nan 'Car financing' 'Vacation'\n",
      " 'Medical expenses' 'Major purchase' 'Business' 'Home buying' 'Green loan']\n",
      "\n",
      "zip_code\n",
      "['870xx' '935xx' '150xx' '376xx' '125xx' '448xx' '087xx' '491xx' '461xx'\n",
      " '126xx' '301xx' '028xx' '550xx' '038xx' '750xx' '662xx' '787xx' '996xx'\n",
      " '939xx' '972xx' '281xx' '937xx' '799xx' '944xx' '123xx' '945xx' '145xx'\n",
      " '310xx' '481xx' '691xx' '639xx' '164xx' '840xx' '062xx' '282xx' '296xx'\n",
      " '370xx' '923xx' '290xx' '850xx' '957xx' '936xx' '926xx' '018xx' '134xx'\n",
      " '339xx' '791xx' '618xx' '070xx' '652xx' '913xx' '234xx' '403xx' '117xx'\n",
      " '063xx' '113xx' '191xx' '902xx' '986xx' '462xx' '719xx' '294xx' '308xx'\n",
      " '396xx' '557xx' '300xx' '077xx' '060xx' '801xx' '554xx' '455xx' '773xx'\n",
      " '585xx' '921xx' '280xx' '604xx' '240xx' '982xx' '322xx' '075xx' '270xx'\n",
      " '841xx' '371xx' '544xx' '076xx' '067xx' '563xx' '954xx' '221xx' '891xx'\n",
      " '285xx' '917xx' '637xx' '908xx' '463xx' '605xx' '958xx' '130xx' '890xx'\n",
      " '495xx' '330xx' '606xx' '032xx' '802xx' '928xx' '152xx' '851xx' '483xx'\n",
      " '959xx' '114xx' '468xx' '980xx' '190xx' '128xx' '338xx' '112xx' '335xx'\n",
      " '104xx' '430xx' '319xx' '553xx' '351xx' '749xx' '775xx' '774xx' '189xx'\n",
      " '934xx' '423xx' '115xx' '184xx' '933xx' '015xx' '864xx' '016xx' '435xx'\n",
      " '940xx' '066xx' '040xx' '644xx' '916xx' '752xx' '331xx' '180xx' '103xx'\n",
      " '320xx' '069xx' '900xx' '809xx' '166xx' '222xx' '983xx' '333xx' '212xx'\n",
      " '207xx' '651xx' '337xx' '786xx' '949xx' '074xx' '327xx' '011xx' '328xx'\n",
      " '303xx' '740xx' '458xx' '950xx' '334xx' '728xx' '019xx' '175xx' '973xx'\n",
      " '210xx' '751xx' '920xx' '460xx' '245xx' '302xx' '962xx' '782xx' '200xx'\n",
      " '352xx' '623xx' '925xx' '441xx' '366xx' '837xx' '763xx' '827xx' '201xx'\n",
      " '678xx' '985xx' '776xx' '316xx' '956xx' '800xx' '852xx' '119xx' '418xx'\n",
      " '276xx' '361xx' '027xx' '820xx' '198xx' '140xx' '617xx' '601xx' '306xx'\n",
      " '570xx' '109xx' '898xx' '379xx' '061xx' '967xx' '405xx' '631xx' '764xx'\n",
      " '785xx' '106xx' '760xx' '209xx' '770xx' '735xx' '298xx' '530xx' '197xx'\n",
      " '071xx' '247xx' '088xx' '532xx' '714xx' '488xx' '541xx' '159xx' '640xx'\n",
      " '828xx' '231xx' '394xx' '672xx' '105xx' '388xx' '608xx' '277xx' '466xx'\n",
      " '761xx' '765xx' '762xx' '600xx' '597xx' '744xx' '710xx' '142xx' '341xx'\n",
      " '726xx' '030xx' '490xx' '085xx' '486xx' '883xx' '857xx' '911xx' '833xx'\n",
      " '551xx' '482xx' '380xx' '720xx' '479xx' '329xx' '970xx' '792xx' '395xx'\n",
      " '853xx' '170xx' '064xx' '446xx' '029xx' '941xx' '323xx' '346xx' '688xx'\n",
      " '705xx' '347xx' '086xx' '365xx' '993xx' '927xx' '023xx' '107xx' '727xx'\n",
      " '124xx' '089xx' '543xx' '287xx' '474xx' '531xx' '991xx' '871xx' '147xx'\n",
      " '372xx' '293xx' '700xx' '336xx' '342xx' '131xx' '783xx' '610xx' '844xx'\n",
      " '656xx' '932xx' '754xx' '790xx' '021xx' '723xx' '297xx' '157xx' '174xx'\n",
      " '100xx' '981xx' '080xx' '580xx' '863xx' '436xx' '220xx' '781xx' '599xx'\n",
      " '630xx' '183xx' '072xx' '226xx' '444xx' '325xx' '135xx' '206xx' '494xx'\n",
      " '607xx' '326xx' '953xx' '910xx' '450xx' '665xx' '355xx' '136xx' '922xx'\n",
      " '660xx' '546xx' '111xx' '535xx' '951xx' '415xx' '410xx' '273xx' '594xx'\n",
      " '442xx' '836xx' '014xx' '208xx' '283xx' '216xx' '047xx' '449xx' '907xx'\n",
      " '244xx' '480xx' '645xx' '312xx' '295xx' '829xx' '386xx' '162xx' '286xx'\n",
      " '712xx' '363xx' '232xx' '598xx' '321xx' '242xx' '658xx' '748xx' '284xx'\n",
      " '129xx' '919xx' '718xx' '539xx' '440xx' '211xx' '971xx' '493xx' '238xx'\n",
      " '236xx' '805xx' '110xx' '484xx' '667xx' '438xx' '218xx' '677xx' '196xx'\n",
      " '975xx' '422xx' '814xx' '685xx' '806xx' '146xx' '946xx' '022xx' '292xx'\n",
      " '132xx' '974xx' '724xx' '729xx' '377xx' '305xx' '731xx' '194xx' '217xx'\n",
      " '271xx' '373xx' '432xx' '279xx' '160xx' '083xx' '673xx' '542xx' '031xx'\n",
      " '421xx' '235xx' '906xx' '684xx' '948xx' '434xx' '641xx' '239xx' '591xx'\n",
      " '894xx' '815xx' '275xx' '478xx' '856xx' '291xx' '230xx' '838xx' '603xx'\n",
      " '846xx' '633xx' '476xx' '116xx' '313xx' '151xx' '402xx' '930xx' '309xx'\n",
      " '362xx' '629xx' '904xx' '703xx' '364xx' '795xx' '780xx' '315xx' '912xx'\n",
      " '141xx' '288xx' '243xx' '701xx' '707xx' '224xx' '392xx' '439xx' '614xx'\n",
      " '768xx' '745xx' '730xx' '593xx' '826xx' '324xx' '073xx' '767xx' '017xx'\n",
      " '794xx' '068xx' '661xx' '845xx' '681xx' '454xx' '260xx' '237xx' '995xx'\n",
      " '354xx' '278xx' '620xx' '384xx' '741xx' '797xx' '144xx' '034xx' '181xx'\n",
      " '082xx' '704xx' '615xx' '626xx' '683xx' '989xx' '492xx' '977xx' '622xx'\n",
      " '358xx' '558xx' '577xx' '010xx' '469xx' '127xx' '757xx' '453xx' '065xx'\n",
      " '199xx' '139xx' '990xx' '456xx' '847xx' '961xx' '680xx' '121xx' '225xx'\n",
      " '587xx' '755xx' '054xx' '274xx' '299xx' '049xx' '834xx' '874xx' '824xx'\n",
      " '602xx' '903xx' '706xx' '793xx' '485xx' '475xx' '496xx' '026xx' '390xx'\n",
      " '214xx' '153xx' '349xx' '860xx' '443xx' '143xx' '368xx' '193xx' '830xx'\n",
      " '897xx' '625xx' '391xx' '635xx' '447xx' '464xx' '611xx' '666xx' '905xx'\n",
      " '721xx' '717xx' '420xx' '383xx' '350xx' '229xx' '582xx' '968xx' '101xx'\n",
      " '843xx' '655xx' '549xx' '586xx' '393xx' '051xx' '048xx' '187xx' '133xx'\n",
      " '120xx' '431xx' '471xx' '427xx' '638xx' '452xx' '158xx' '534xx' '195xx'\n",
      " '118xx' '241xx' '223xx' '078xx' '186xx' '012xx' '559xx' '314xx' '498xx'\n",
      " '445xx' '612xx' '997xx' '381xx' '489xx' '382xx' '810xx' '674xx' '943xx'\n",
      " '988xx' '307xx' '960xx' '046xx' '137xx' '215xx' '778xx' '344xx' '039xx'\n",
      " '825xx' '044xx' '374xx' '895xx' '609xx' '367xx' '385xx' '057xx' '148xx'\n",
      " '756xx' '168xx' '811xx' '653xx' '759xx' '722xx' '947xx' '657xx' '803xx'\n",
      " '952xx' '654xx' '357xx' '566xx' '084xx' '179xx' '037xx' '401xx' '924xx'\n",
      " '177xx' '788xx' '411xx' '360xx' '389xx' '616xx' '816xx' '173xx' '547xx'\n",
      " '304xx' '789xx' '138xx' '979xx' '020xx' '798xx' '407xx' '156xx' '992xx'\n",
      " '915xx' '537xx' '573xx' '451xx' '033xx' '079xx' '108xx' '725xx' '634xx'\n",
      " '994xx' '737xx' '233xx' '596xx' '766xx' '041xx' '574xx' '931xx' '398xx'\n",
      " '984xx' '472xx' '378xx' '592xx' '590xx' '711xx' '163xx' '565xx' '784xx'\n",
      " '024xx' '424xx' '955xx' '812xx' '571xx' '560xx' '779xx' '650xx' '670xx'\n",
      " '880xx' '540xx' '272xx' '178xx' '056xx' '081xx' '413xx' '182xx' '091xx'\n",
      " '053xx' '122xx' '613xx' '914xx' '219xx' '255xx' '102xx' '567xx' '769xx'\n",
      " '025xx' '465xx' '042xx' '978xx' '804xx' '564xx' '807xx' '624xx' '185xx'\n",
      " '548xx' '796xx' '252xx' '265xx' '408xx' '648xx' '477xx' '317xx' '404xx'\n",
      " '253xx' '595xx' '881xx' '406xx' '228xx' '400xx' '437xx' '561xx' '165xx'\n",
      " '487xx' '716xx' '693xx' '772xx' '169xx' '588xx' '675xx' '813xx' '545xx'\n",
      " '882xx' '669xx' '687xx' '417xx' '467xx' '409xx' '457xx' '713xx' '628xx'\n",
      " '176xx' '149xx' '161xx' '686xx' '823xx' '172xx' '397xx' '188xx' '875xx'\n",
      " '227xx' '473xx' '387xx' '808xx' '671xx' '747xx' '246xx' '433xx' '562xx'\n",
      " '664xx' '359xx' '918xx' '356xx' '627xx' '050xx' '470xx' '171xx' '855xx'\n",
      " '251xx' '261xx' '758xx' '499xx' '835xx' '093xx' '708xx' '689xx' '155xx'\n",
      " '581xx' '647xx' '893xx' '369xx' '098xx' '035xx' '262xx' '777xx' '013xx'\n",
      " '052xx' '668xx' '154xx' '556xx' '583xx' '832xx' '636xx' '676xx' '043xx'\n",
      " '311xx' '738xx' '575xx' '746xx' '976xx' '692xx' '736xx' '877xx' '254xx'\n",
      " '425xx' '045xx' '859xx' '743xx' '963xx' '497xx' '884xx' '412xx' '538xx'\n",
      " '619xx' '289xx' '318xx' '416xx' '966xx' '646xx' '332xx' '250xx' '036xx'\n",
      " '999xx' '090xx' '865xx' '831xx' '572xx' '873xx' '734xx' '878xx' '426xx'\n",
      " '167xx' '058xx' '258xx' '998xx' '267xx' '264xx' '576xx' '690xx' '879xx'\n",
      " '502xx' '094xx' '822xx' '679xx' '095xx' '059xx' '584xx' '506xx' '340xx'\n",
      " '343xx' '263xx' '256xx' '414xx' '257xx' '698xx' '753xx' '096xx' '739xx'\n",
      " '348xx' '008xx' '259xx' '969xx' '709xx' '345xx' '204xx' '268xx' '202xx'\n",
      " '702xx' '249xx' '097xx' '523xx' '007xx' '987xx' '555xx' '821xx' nan\n",
      " '092xx' '742xx' '942xx' '621xx' '248xx' '696xx' '663xx' '569xx' '500xx'\n",
      " '965xx' '901xx' '964xx' '055xx' '909xx' '694xx' '854xx' '203xx' '525xx'\n",
      " '266xx']\n",
      "\n",
      "addr_state\n",
      "['NM' 'CA' 'PA' 'TN' 'NY' 'OH' 'NJ' 'MI' 'IN' 'GA' 'RI' 'MN' 'NH' 'TX'\n",
      " 'KS' 'AK' 'OR' 'NC' 'NE' 'MO' 'UT' 'CT' 'SC' 'AZ' 'MA' 'FL' 'IL' 'VA'\n",
      " 'KY' 'WA' 'AR' 'MS' 'CO' 'ND' 'WI' 'NV' 'AL' 'OK' 'ME' 'MD' 'DC' 'ID'\n",
      " 'WY' 'DE' 'SD' 'HI' 'WV' 'LA' 'MT' 'VT']\n",
      "\n",
      "earliest_cr_line\n"
     ]
    },
    {
     "name": "stdout",
     "output_type": "stream",
     "text": [
      "['Nov-1993' 'Aug-2001' 'Jan-1998' 'Nov-1994' 'Nov-2004' 'Feb-1994'\n",
      " 'Apr-2001' 'Apr-2004' 'Sep-1983' 'Sep-2004' 'Jun-1994' 'Feb-1992'\n",
      " 'Jul-1999' 'Jan-2013' 'Aug-1996' 'Feb-1984' 'Oct-1999' 'Apr-1995'\n",
      " 'Feb-2006' 'Oct-2005' 'Aug-2002' 'Sep-1998' 'Dec-1995' 'May-2003'\n",
      " 'Nov-2000' 'Jan-2008' 'Jan-2005' 'Oct-1994' 'Oct-1997' 'Dec-1984'\n",
      " 'Oct-2002' 'Jul-1982' 'May-2000' 'May-2010' 'Mar-1997' 'Mar-1990'\n",
      " 'Nov-2002' 'Dec-2001' 'Feb-2002' 'Jun-2007' 'Nov-1995' 'Jul-1993'\n",
      " 'Dec-2005' 'Sep-2000' 'Apr-2006' 'Nov-1982' 'May-1995' 'Jul-1987'\n",
      " 'Jan-2003' 'Jul-2006' 'Apr-1992' 'Jan-2011' 'Jun-1995' 'Oct-2004'\n",
      " 'Sep-1986' 'Feb-2007' 'Dec-2002' 'Jul-2003' 'Mar-1979' 'Aug-2003'\n",
      " 'Jun-2004' 'Nov-1980' 'Jan-2006' 'Apr-2002' 'Jan-2000' 'May-1998'\n",
      " 'Mar-1996' 'Dec-2006' 'Nov-1984' 'Aug-2000' 'Mar-2003' 'Mar-1992'\n",
      " 'Sep-2003' 'Dec-2013' 'Oct-1996' 'Mar-2001' 'Nov-2005' 'Nov-2006'\n",
      " 'Jul-2001' 'Jun-2003' 'Oct-2007' 'Aug-2007' 'Aug-2011' 'Mar-2007'\n",
      " 'Dec-1993' 'Jun-2006' 'Dec-2009' 'Nov-1986' 'Sep-2005' 'Sep-1982'\n",
      " 'Oct-1987' 'Aug-1989' 'Mar-2004' 'Jun-2012' 'May-1993' 'Feb-2004'\n",
      " 'Nov-2003' 'Aug-2009' 'Jun-2000' 'May-2004' 'Feb-1985' 'Jul-2005'\n",
      " 'Jul-1990' 'May-2007' 'Dec-1998' 'Jun-1997' 'Aug-1978' 'Aug-2005'\n",
      " 'Oct-1989' 'Dec-1999' 'Jan-1996' 'Apr-2003' 'Apr-1998' 'Dec-2003'\n",
      " 'Apr-2011' 'Oct-1990' 'Sep-1996' 'Aug-2004' 'May-2006' 'Sep-2002'\n",
      " 'Jul-2002' 'Oct-1983' 'Apr-2005' 'Oct-1993' 'Jan-1997' 'Feb-2010'\n",
      " 'Feb-1983' 'May-2001' 'Jul-2011' 'Mar-1988' 'Dec-1994' 'Nov-1997'\n",
      " 'Aug-1995' 'Dec-1991' 'Jun-2002' 'Oct-2003' 'Jul-1997' 'Nov-1999'\n",
      " 'Nov-2011' 'Jul-2007' 'Jun-1999' 'Sep-2001' 'Jun-1998' 'Aug-2010'\n",
      " 'Dec-1988' 'Sep-2006' 'Jan-1999' 'Jun-2001' 'Jul-1995' 'May-1996'\n",
      " 'Feb-1995' 'Mar-2006' 'Apr-1984' 'Jan-2010' 'Jun-1996' 'Jul-1998'\n",
      " 'Mar-1998' 'Oct-2006' 'Feb-2005' 'Jan-2001' 'Mar-2002' 'Jul-1992'\n",
      " 'Jan-2007' 'Jul-2009' 'Nov-1991' 'Jun-2005' 'Feb-1989' 'Apr-1977'\n",
      " 'May-2008' 'Nov-1996' 'Nov-1985' 'May-1994' 'Apr-1990' 'Jan-2014'\n",
      " 'Mar-1994' 'Oct-1977' 'Aug-1994' 'Aug-2008' 'Jan-2009' 'Aug-1997'\n",
      " 'Nov-2012' 'Feb-2000' 'Nov-2008' 'May-2002' 'Dec-1985' 'Aug-1987'\n",
      " 'Apr-2000' 'Aug-2012' 'Apr-2007' 'Dec-1996' 'Mar-1995' 'Apr-1994'\n",
      " 'Aug-1999' 'Apr-2008' 'May-1990' 'Jul-2008' 'Dec-2012' 'Sep-1987'\n",
      " 'Jul-2004' 'Mar-2009' 'Sep-2010' 'Feb-2001' 'Oct-1998' 'Sep-1992'\n",
      " 'Nov-1983' 'Jun-2009' 'Apr-1987' 'Oct-2008' 'Feb-1993' 'Dec-2004'\n",
      " 'Jul-1965' 'Nov-2007' 'Jan-1993' 'Jul-1989' 'Mar-2005' 'Feb-1997'\n",
      " 'Jul-1994' 'Apr-2014' 'Oct-2013' 'Apr-1996' 'Sep-1995' 'Feb-1999'\n",
      " 'Sep-2011' 'Nov-1989' 'Sep-1993' 'Feb-2009' 'Aug-2006' 'Oct-2010'\n",
      " 'Mar-2008' 'Jan-1991' 'Nov-1998' 'May-1987' 'Feb-1998' 'Nov-1988'\n",
      " 'Aug-1992' 'Jul-1983' 'May-1989' 'May-1986' 'Oct-2011' 'Oct-1995'\n",
      " 'Sep-1999' 'Jul-1984' 'May-1982' 'Oct-1992' 'Oct-1982' 'Oct-2001'\n",
      " 'Sep-2008' 'Jan-2004' 'May-2005' 'Sep-1978' 'Mar-1991' 'Apr-1982'\n",
      " 'Dec-2007' 'Jan-1981' 'Jan-2002' 'Nov-2009' 'May-2013' 'Aug-1988'\n",
      " 'Nov-2001' 'May-1999' 'Dec-2010' 'Jun-1992' 'Sep-1997' 'Aug-1985'\n",
      " 'Dec-2011' 'Mar-1974' 'Oct-1991' 'Jul-2010' 'May-1997' 'Jun-1989'\n",
      " 'Jul-2013' 'Oct-1979' 'May-1983' 'Mar-1986' 'Jun-2010' 'Dec-2000'\n",
      " 'Dec-1983' 'Apr-1986' 'Jul-1991' 'Jan-1988' 'Jan-1990' 'Feb-2008'\n",
      " 'Aug-1990' 'Mar-1999' 'Nov-1987' 'Sep-1990' 'Oct-2000' 'Apr-2013'\n",
      " 'Feb-2003' 'Jan-1986' 'Dec-1980' 'Jun-1983' 'Mar-2000' 'Jul-1996'\n",
      " 'Aug-2013' 'May-1985' 'Jan-1994' 'Jun-1987' 'Nov-1990' 'Sep-1994'\n",
      " 'Aug-1991' 'Aug-1983' 'Aug-1998' 'Aug-1982' 'Jul-1980' 'Aug-1993'\n",
      " 'Oct-2009' 'Jun-1988' 'Mar-2010' 'Apr-1988' 'Dec-1986' 'Feb-1990'\n",
      " 'Sep-1984' 'Mar-1984' 'Apr-1993' 'Feb-2014' 'Nov-1992' 'Apr-1999'\n",
      " 'Sep-2007' 'Feb-1982' 'Jul-2012' 'May-1991' 'Feb-1987' 'Apr-1997'\n",
      " 'Apr-1991' 'Oct-1986' 'Feb-1977' 'Nov-2010' 'Sep-1991' 'Jun-2013'\n",
      " 'Jul-2000' 'Jan-1982' 'Apr-1965' 'Dec-1989' 'May-1984' 'Mar-1965'\n",
      " 'Mar-2014' 'Jan-1992' 'Dec-1997' 'Mar-1983' 'Jun-1993' 'May-1988'\n",
      " 'Apr-1969' 'Sep-1988' 'Mar-1987' 'Apr-1989' 'Jun-2011' 'Jan-1989'\n",
      " 'Mar-1993' 'Mar-1978' 'Feb-1996' 'Mar-1985' 'Apr-2009' 'Dec-1990'\n",
      " 'Jan-1979' 'Feb-1975' 'Jun-2008' 'Jul-1981' 'Oct-1988' 'Mar-2012'\n",
      " 'Jun-1986' 'Nov-1979' 'Jul-1968' 'Feb-2012' 'Dec-1982' 'Dec-2008'\n",
      " 'Nov-1977' 'Oct-1974' 'Jul-1988' 'Apr-1980' 'Jan-1987' 'Dec-1979'\n",
      " 'Apr-2010' 'Jun-1990' 'Dec-1969' 'May-2012' 'Jan-1969' 'Feb-1991'\n",
      " 'May-1992' 'Sep-1985' 'Sep-1976' 'May-2011' 'Apr-1979' 'Aug-1986'\n",
      " 'Mar-2013' 'Mar-1975' 'May-1972' 'Dec-1970' 'Dec-1977' 'Jun-1981'\n",
      " 'Mar-1989' 'Jan-1995' 'Dec-1992' 'Dec-1987' 'Sep-1989' 'Oct-1975'\n",
      " 'Sep-2009' 'Apr-2012' 'Aug-1974' 'Feb-1988' 'Dec-1967' 'Feb-2013'\n",
      " 'Apr-1985' 'Jun-1964' 'Jan-2012' 'May-1979' 'Jan-1977' 'Mar-1980'\n",
      " 'Jun-1991' 'Sep-2012' 'Feb-1986' 'Feb-1980' 'Aug-1984' 'Sep-2013'\n",
      " 'Jan-1985' 'Oct-2012' 'Jun-1984' 'Jan-1983' 'Aug-1979' 'Jan-1980'\n",
      " 'Feb-1964' 'Jan-1978' 'Apr-1976' 'Mar-2011' 'Sep-1968' 'Oct-1970'\n",
      " 'Nov-1975' 'Oct-1976' 'Jan-1970' 'Sep-1969' 'Feb-2011' 'Nov-1969'\n",
      " 'Oct-1985' 'Jun-1975' 'Nov-1974' 'Feb-1974' 'Oct-1984' 'Jul-1973'\n",
      " 'Apr-1981' 'Dec-1962' 'Apr-1983' 'Feb-1979' 'Mar-1981' 'Aug-1981'\n",
      " 'Feb-1969' 'May-2009' 'May-1976' 'Jul-1986' 'Mar-1982' 'Sep-1979'\n",
      " 'Jun-1977' 'Sep-1974' 'Aug-1972' 'Feb-1970' 'Jun-1985' 'Jan-1966'\n",
      " 'Nov-1976' 'May-1974' 'Dec-1981' 'May-1966' 'Apr-1974' 'Sep-1977'\n",
      " 'Jan-1976' 'Nov-1981' 'May-1980' 'Dec-1972' 'Apr-1978' 'Jul-1979'\n",
      " 'Nov-2013' 'Jun-1974' 'Jul-1977' 'Feb-1978' 'Jan-1984' 'Jul-1985'\n",
      " 'Sep-1971' 'Sep-1973' 'Nov-1968' 'Dec-1960' 'Aug-1967' 'May-1977'\n",
      " 'Nov-1967' 'Sep-1981' 'May-1978' 'Jun-1967' 'Jun-1969' 'Jul-1969'\n",
      " 'Aug-1971' 'Apr-1967' 'Aug-1973' 'Jul-1975' 'Feb-1981' 'Aug-1977'\n",
      " 'May-1981' 'Apr-1972' 'Mar-1973' 'Mar-1977' 'Nov-1978' 'Apr-1971'\n",
      " 'Jun-1980' 'Nov-1973' 'Dec-1974' 'Dec-1976' 'May-1975' 'Jun-1968'\n",
      " 'Oct-1981' 'Jun-1976' 'Oct-1980' 'Sep-1975' 'Dec-1975' 'Mar-1972'\n",
      " 'Jun-1979' 'Jul-1976' 'Jan-1971' 'Jun-1982' 'Oct-1978' 'Jun-1970'\n",
      " 'Jul-1974' 'Jun-1971' 'Dec-1968' 'May-2014' 'Jan-1972' 'Jun-1978'\n",
      " 'Feb-1976' 'May-1970' 'Mar-1970' 'Nov-1971' 'Jan-1975' 'Dec-1966'\n",
      " 'Aug-1976' 'Feb-1971' 'Jan-1974' 'Jun-2014' 'Apr-1961' 'Nov-1965'\n",
      " 'Sep-1967' 'Jul-1966' 'Mar-1976' 'Feb-1972' 'Oct-1973' 'Jan-1958'\n",
      " 'Nov-1970' 'Dec-1978' 'Jan-1963' 'May-1971' 'Apr-1964' 'Nov-1964'\n",
      " 'Sep-1980' 'Aug-2014' 'Jul-1959' 'Jan-1962' 'Oct-1969' 'Jul-2014'\n",
      " 'Apr-1975' 'Aug-1975' 'Jul-1978' 'Jul-1972' 'Aug-1968' 'Oct-1965'\n",
      " 'Oct-1972' 'Aug-1969' 'Jun-1972' 'Aug-1965' 'Jul-1967' 'May-1968'\n",
      " 'Oct-1971' 'Jun-1973' 'Apr-1970' 'Jan-1965' 'Jan-1973' 'Nov-1966'\n",
      " 'Nov-1972' 'Jan-1964' 'Dec-1973' 'Jun-1966' 'Feb-1973' 'Aug-1980'\n",
      " 'May-1973' 'Jan-1968' 'Jul-1970' 'Sep-1966' 'Dec-1956' 'Jul-1958'\n",
      " 'May-1969' 'Jan-1959' 'Sep-1963' 'Sep-1970' 'Aug-1970' 'Aug-1966'\n",
      " 'Apr-1973' 'Aug-1941' 'Sep-1965' 'May-1967' 'Apr-1968' 'Mar-1969'\n",
      " 'Apr-1966' 'Feb-1968' 'Jan-1960' 'Sep-1961' 'Sep-1972' 'Dec-1964'\n",
      " 'Dec-1971' 'Jun-1965' 'Apr-1955' 'Mar-1968' 'Apr-1934' 'Sep-1962'\n",
      " 'May-1959' 'Aug-1958' 'Jul-1971' 'Feb-1967' 'May-1964' 'Oct-1966'\n",
      " 'Dec-1959' 'Dec-1965' 'Apr-1963' 'Oct-1968' 'Oct-1964' 'Oct-1967'\n",
      " 'Mar-1971' 'Dec-1963' 'Jan-1967' 'Sep-1964' 'Jan-1961' 'Mar-1967'\n",
      " 'Jun-1962' 'Jun-1959' 'Jul-1964' 'Jun-1963' 'Jan-1956' 'Jan-1951'\n",
      " 'Mar-1959' 'Dec-1946' 'Nov-1961' 'Feb-1966' 'Oct-1958' 'Apr-1962'\n",
      " 'Jan-1955' 'Jul-1962' 'Aug-1964' 'Feb-1934' 'May-1965' 'Feb-1963'\n",
      " 'Jun-1957' 'Mar-1966' 'Oct-1961' 'Jan-1950' 'Aug-1959' 'Oct-1963'\n",
      " 'Mar-1961' 'May-1963' 'Jul-1960' 'Aug-1963' 'Jan-1957' 'May-1961'\n",
      " 'Mar-1964' 'Nov-1962' 'Jul-1951' 'Aug-1957' 'Jan-1953' 'Feb-1961'\n",
      " 'Oct-1962' 'Aug-1961' 'Nov-1952' 'Jul-1963' 'Feb-1962' 'Jan-1952'\n",
      " 'Feb-1965' 'Mar-1962' 'Apr-1960' 'May-1960' 'Jun-1960' 'Jul-1961'\n",
      " 'Aug-1962' 'Apr-1958' 'Mar-1933' 'Nov-1963' 'Oct-1960' 'Feb-1959'\n",
      " 'Nov-1959' 'Feb-1960' 'Nov-1957' 'Mar-1960' 'Dec-1958']\n",
      "\n",
      "initial_list_status\n",
      "['f' 'w']\n",
      "\n",
      "last_pymnt_d\n",
      "['Dec-2017' 'Sep-2017' 'Jan-2017' 'Aug-2017' 'Nov-2017' 'Jul-2017'\n",
      " 'Apr-2017' 'Oct-2017' 'Jun-2017' 'Feb-2017' 'Dec-2016' 'Mar-2017'\n",
      " 'Nov-2016' 'Sep-2016' 'May-2017' 'Jun-2016' 'Aug-2016' 'May-2016'\n",
      " 'Jul-2016' nan 'Apr-2016' 'Oct-2016' 'Mar-2016']\n",
      "\n",
      "next_pymnt_d\n",
      "['Jan-2018' nan 'Feb-2018' 'Dec-2017']\n",
      "\n",
      "last_credit_pull_d\n",
      "['Dec-2017' 'Jan-2017' 'Sep-2017' 'Jul-2017' 'Aug-2017' 'Oct-2017'\n",
      " 'Nov-2017' 'Mar-2017' 'Jun-2017' 'Oct-2016' 'Dec-2016' 'May-2017'\n",
      " 'Feb-2017' 'Nov-2016' 'Apr-2017' 'Jul-2016' 'May-2016' 'Apr-2016'\n",
      " 'Aug-2016' 'Jun-2016' 'Sep-2016' 'Mar-2016' nan]\n",
      "\n",
      "application_type\n",
      "['Individual' 'Joint App']\n",
      "\n"
     ]
    }
   ],
   "source": [
    "for col in X_train.select_dtypes(include = ['object', 'bool']).columns :\n",
    "    print(col)\n",
    "    print(X_train[col].unique())\n",
    "    print()"
   ]
  },
  {
   "cell_type": "code",
   "execution_count": 86,
   "id": "97905b0e",
   "metadata": {},
   "outputs": [],
   "source": [
    "col_need_to_clean = ['term', 'emp_length', 'issue_d', 'earliest_cr_line', 'last_pymnt_d', 'next_pymnt_d', 'last_credit_pull_d']"
   ]
  },
  {
   "cell_type": "code",
   "execution_count": 87,
   "id": "012017ff",
   "metadata": {},
   "outputs": [
    {
     "data": {
      "text/plain": [
       "array(['36 months', '60 months'], dtype=object)"
      ]
     },
     "execution_count": 87,
     "metadata": {},
     "output_type": "execute_result"
    }
   ],
   "source": [
    "X_train['term'].unique()"
   ]
  },
  {
   "cell_type": "code",
   "execution_count": 88,
   "id": "5b78add1",
   "metadata": {},
   "outputs": [
    {
     "data": {
      "text/plain": [
       "381958    36 \n",
       "135266    60 \n",
       "451467    60 \n",
       "596565    60 \n",
       "72200     60 \n",
       "         ... \n",
       "501469    36 \n",
       "23753     60 \n",
       "576159    60 \n",
       "88067     36 \n",
       "285515    36 \n",
       "Name: term, Length: 522282, dtype: object"
      ]
     },
     "execution_count": 88,
     "metadata": {},
     "output_type": "execute_result"
    }
   ],
   "source": [
    "X_train['term'].str.replace('months', '')"
   ]
  },
  {
   "cell_type": "code",
   "execution_count": 89,
   "id": "3e9caf5b",
   "metadata": {},
   "outputs": [
    {
     "data": {
      "text/plain": [
       "381958    36\n",
       "135266    60\n",
       "451467    60\n",
       "596565    60\n",
       "72200     60\n",
       "          ..\n",
       "501469    36\n",
       "23753     60\n",
       "576159    60\n",
       "88067     36\n",
       "285515    36\n",
       "Name: term, Length: 522282, dtype: int64"
      ]
     },
     "execution_count": 89,
     "metadata": {},
     "output_type": "execute_result"
    }
   ],
   "source": [
    "pd.to_numeric(X_train['term'].str.replace('months', ''))"
   ]
  },
  {
   "cell_type": "code",
   "execution_count": 90,
   "id": "9696347a",
   "metadata": {},
   "outputs": [],
   "source": [
    "X_train['term'] = pd.to_numeric(X_train['term'].str.replace('months', ''))"
   ]
  },
  {
   "cell_type": "code",
   "execution_count": 91,
   "id": "27a52aaa",
   "metadata": {},
   "outputs": [
    {
     "data": {
      "text/plain": [
       "381958    36\n",
       "135266    60\n",
       "451467    60\n",
       "596565    60\n",
       "72200     60\n",
       "          ..\n",
       "501469    36\n",
       "23753     60\n",
       "576159    60\n",
       "88067     36\n",
       "285515    36\n",
       "Name: term, Length: 522282, dtype: int64"
      ]
     },
     "execution_count": 91,
     "metadata": {},
     "output_type": "execute_result"
    }
   ],
   "source": [
    "X_train['term']"
   ]
  },
  {
   "cell_type": "code",
   "execution_count": 92,
   "id": "69e106be",
   "metadata": {},
   "outputs": [
    {
     "data": {
      "text/plain": [
       "array(['2 years', '5 years', '10+ years', nan, '8 years', '6 years',\n",
       "       '9 years', '3 years', '4 years', '7 years', '< 1 year', '1 year'],\n",
       "      dtype=object)"
      ]
     },
     "execution_count": 92,
     "metadata": {},
     "output_type": "execute_result"
    }
   ],
   "source": [
    "X_train['emp_length'].unique()"
   ]
  },
  {
   "cell_type": "code",
   "execution_count": 93,
   "id": "e59c5c76",
   "metadata": {},
   "outputs": [],
   "source": [
    "X_train['emp_length'] = X_train['emp_length'].str.replace('+ years', '')\n",
    "X_train['emp_length'] = X_train['emp_length'].str.replace('+', '')\n",
    "X_train['emp_length'] = X_train['emp_length'].str.replace(' years', '')\n",
    "X_train['emp_length'] = X_train['emp_length'].str.replace('< 1 year', str(0))\n",
    "X_train['emp_length'] = X_train['emp_length'].str.replace(' year', '')\n",
    "X_train['emp_length'].fillna(value = 0, inplace = True)"
   ]
  },
  {
   "cell_type": "code",
   "execution_count": 94,
   "id": "1f391a6b",
   "metadata": {},
   "outputs": [
    {
     "data": {
      "text/plain": [
       "381958     2\n",
       "135266     5\n",
       "451467    10\n",
       "596565     0\n",
       "72200      8\n",
       "          ..\n",
       "501469    10\n",
       "23753     10\n",
       "576159    10\n",
       "88067     10\n",
       "285515    10\n",
       "Name: emp_length, Length: 522282, dtype: object"
      ]
     },
     "execution_count": 94,
     "metadata": {},
     "output_type": "execute_result"
    }
   ],
   "source": [
    "X_train['emp_length']"
   ]
  },
  {
   "cell_type": "code",
   "execution_count": 95,
   "id": "b007504c",
   "metadata": {},
   "outputs": [],
   "source": [
    "X_train['emp_length'] = pd.to_numeric(X_train['emp_length'])"
   ]
  },
  {
   "cell_type": "code",
   "execution_count": 96,
   "id": "f4706a5d",
   "metadata": {},
   "outputs": [
    {
     "data": {
      "text/plain": [
       "381958     2\n",
       "135266     5\n",
       "451467    10\n",
       "596565     0\n",
       "72200      8\n",
       "          ..\n",
       "501469    10\n",
       "23753     10\n",
       "576159    10\n",
       "88067     10\n",
       "285515    10\n",
       "Name: emp_length, Length: 522282, dtype: int64"
      ]
     },
     "execution_count": 96,
     "metadata": {},
     "output_type": "execute_result"
    }
   ],
   "source": [
    "X_train['emp_length']"
   ]
  },
  {
   "cell_type": "code",
   "execution_count": 97,
   "id": "a8241016",
   "metadata": {},
   "outputs": [
    {
     "data": {
      "text/html": [
       "<div>\n",
       "<style scoped>\n",
       "    .dataframe tbody tr th:only-of-type {\n",
       "        vertical-align: middle;\n",
       "    }\n",
       "\n",
       "    .dataframe tbody tr th {\n",
       "        vertical-align: top;\n",
       "    }\n",
       "\n",
       "    .dataframe thead th {\n",
       "        text-align: right;\n",
       "    }\n",
       "</style>\n",
       "<table border=\"1\" class=\"dataframe\">\n",
       "  <thead>\n",
       "    <tr style=\"text-align: right;\">\n",
       "      <th></th>\n",
       "      <th>issue_d</th>\n",
       "      <th>earliest_cr_line</th>\n",
       "      <th>last_pymnt_d</th>\n",
       "      <th>next_pymnt_d</th>\n",
       "      <th>last_credit_pull_d</th>\n",
       "    </tr>\n",
       "  </thead>\n",
       "  <tbody>\n",
       "    <tr>\n",
       "      <th>381958</th>\n",
       "      <td>Aug-2017</td>\n",
       "      <td>Nov-1993</td>\n",
       "      <td>Dec-2017</td>\n",
       "      <td>Jan-2018</td>\n",
       "      <td>Dec-2017</td>\n",
       "    </tr>\n",
       "    <tr>\n",
       "      <th>135266</th>\n",
       "      <td>Mar-2017</td>\n",
       "      <td>Aug-2001</td>\n",
       "      <td>Sep-2017</td>\n",
       "      <td>NaN</td>\n",
       "      <td>Dec-2017</td>\n",
       "    </tr>\n",
       "    <tr>\n",
       "      <th>451467</th>\n",
       "      <td>Jun-2016</td>\n",
       "      <td>Jan-1998</td>\n",
       "      <td>Jan-2017</td>\n",
       "      <td>NaN</td>\n",
       "      <td>Jan-2017</td>\n",
       "    </tr>\n",
       "    <tr>\n",
       "      <th>596565</th>\n",
       "      <td>Oct-2016</td>\n",
       "      <td>Nov-1994</td>\n",
       "      <td>Dec-2017</td>\n",
       "      <td>Jan-2018</td>\n",
       "      <td>Dec-2017</td>\n",
       "    </tr>\n",
       "    <tr>\n",
       "      <th>72200</th>\n",
       "      <td>May-2017</td>\n",
       "      <td>Nov-2004</td>\n",
       "      <td>Dec-2017</td>\n",
       "      <td>Jan-2018</td>\n",
       "      <td>Dec-2017</td>\n",
       "    </tr>\n",
       "    <tr>\n",
       "      <th>...</th>\n",
       "      <td>...</td>\n",
       "      <td>...</td>\n",
       "      <td>...</td>\n",
       "      <td>...</td>\n",
       "      <td>...</td>\n",
       "    </tr>\n",
       "    <tr>\n",
       "      <th>501469</th>\n",
       "      <td>Apr-2016</td>\n",
       "      <td>Mar-1993</td>\n",
       "      <td>Dec-2017</td>\n",
       "      <td>Jan-2018</td>\n",
       "      <td>Dec-2017</td>\n",
       "    </tr>\n",
       "    <tr>\n",
       "      <th>23753</th>\n",
       "      <td>Jun-2017</td>\n",
       "      <td>Apr-1996</td>\n",
       "      <td>Dec-2017</td>\n",
       "      <td>Jan-2018</td>\n",
       "      <td>Dec-2017</td>\n",
       "    </tr>\n",
       "    <tr>\n",
       "      <th>576159</th>\n",
       "      <td>Nov-2016</td>\n",
       "      <td>Aug-2002</td>\n",
       "      <td>Dec-2017</td>\n",
       "      <td>Jan-2018</td>\n",
       "      <td>Dec-2017</td>\n",
       "    </tr>\n",
       "    <tr>\n",
       "      <th>88067</th>\n",
       "      <td>Apr-2017</td>\n",
       "      <td>Mar-1983</td>\n",
       "      <td>Dec-2017</td>\n",
       "      <td>Jan-2018</td>\n",
       "      <td>Dec-2017</td>\n",
       "    </tr>\n",
       "    <tr>\n",
       "      <th>285515</th>\n",
       "      <td>Jul-2016</td>\n",
       "      <td>Aug-1987</td>\n",
       "      <td>Dec-2017</td>\n",
       "      <td>Jan-2018</td>\n",
       "      <td>Dec-2017</td>\n",
       "    </tr>\n",
       "  </tbody>\n",
       "</table>\n",
       "<p>522282 rows × 5 columns</p>\n",
       "</div>"
      ],
      "text/plain": [
       "         issue_d earliest_cr_line last_pymnt_d next_pymnt_d last_credit_pull_d\n",
       "381958  Aug-2017         Nov-1993     Dec-2017     Jan-2018           Dec-2017\n",
       "135266  Mar-2017         Aug-2001     Sep-2017          NaN           Dec-2017\n",
       "451467  Jun-2016         Jan-1998     Jan-2017          NaN           Jan-2017\n",
       "596565  Oct-2016         Nov-1994     Dec-2017     Jan-2018           Dec-2017\n",
       "72200   May-2017         Nov-2004     Dec-2017     Jan-2018           Dec-2017\n",
       "...          ...              ...          ...          ...                ...\n",
       "501469  Apr-2016         Mar-1993     Dec-2017     Jan-2018           Dec-2017\n",
       "23753   Jun-2017         Apr-1996     Dec-2017     Jan-2018           Dec-2017\n",
       "576159  Nov-2016         Aug-2002     Dec-2017     Jan-2018           Dec-2017\n",
       "88067   Apr-2017         Mar-1983     Dec-2017     Jan-2018           Dec-2017\n",
       "285515  Jul-2016         Aug-1987     Dec-2017     Jan-2018           Dec-2017\n",
       "\n",
       "[522282 rows x 5 columns]"
      ]
     },
     "execution_count": 97,
     "metadata": {},
     "output_type": "execute_result"
    }
   ],
   "source": [
    "col_date = ['issue_d', 'earliest_cr_line', 'last_pymnt_d', 'next_pymnt_d', 'last_credit_pull_d']\n",
    "X_train[col_date]"
   ]
  },
  {
   "cell_type": "code",
   "execution_count": 98,
   "id": "d31e4615",
   "metadata": {},
   "outputs": [],
   "source": [
    "X_train['issue_d'] = pd.to_datetime(X_train['issue_d'])"
   ]
  },
  {
   "cell_type": "code",
   "execution_count": 99,
   "id": "64dd9cc7",
   "metadata": {},
   "outputs": [],
   "source": [
    "for col in col_date:\n",
    "    X_train[col] = pd.to_datetime(X_train[col])"
   ]
  },
  {
   "cell_type": "code",
   "execution_count": 100,
   "id": "5f65f7eb",
   "metadata": {},
   "outputs": [
    {
     "data": {
      "text/html": [
       "<div>\n",
       "<style scoped>\n",
       "    .dataframe tbody tr th:only-of-type {\n",
       "        vertical-align: middle;\n",
       "    }\n",
       "\n",
       "    .dataframe tbody tr th {\n",
       "        vertical-align: top;\n",
       "    }\n",
       "\n",
       "    .dataframe thead th {\n",
       "        text-align: right;\n",
       "    }\n",
       "</style>\n",
       "<table border=\"1\" class=\"dataframe\">\n",
       "  <thead>\n",
       "    <tr style=\"text-align: right;\">\n",
       "      <th></th>\n",
       "      <th>issue_d</th>\n",
       "      <th>earliest_cr_line</th>\n",
       "      <th>last_pymnt_d</th>\n",
       "      <th>next_pymnt_d</th>\n",
       "      <th>last_credit_pull_d</th>\n",
       "    </tr>\n",
       "  </thead>\n",
       "  <tbody>\n",
       "    <tr>\n",
       "      <th>381958</th>\n",
       "      <td>2017-08-01</td>\n",
       "      <td>1993-11-01</td>\n",
       "      <td>2017-12-01</td>\n",
       "      <td>2018-01-01</td>\n",
       "      <td>2017-12-01</td>\n",
       "    </tr>\n",
       "    <tr>\n",
       "      <th>135266</th>\n",
       "      <td>2017-03-01</td>\n",
       "      <td>2001-08-01</td>\n",
       "      <td>2017-09-01</td>\n",
       "      <td>NaT</td>\n",
       "      <td>2017-12-01</td>\n",
       "    </tr>\n",
       "    <tr>\n",
       "      <th>451467</th>\n",
       "      <td>2016-06-01</td>\n",
       "      <td>1998-01-01</td>\n",
       "      <td>2017-01-01</td>\n",
       "      <td>NaT</td>\n",
       "      <td>2017-01-01</td>\n",
       "    </tr>\n",
       "    <tr>\n",
       "      <th>596565</th>\n",
       "      <td>2016-10-01</td>\n",
       "      <td>1994-11-01</td>\n",
       "      <td>2017-12-01</td>\n",
       "      <td>2018-01-01</td>\n",
       "      <td>2017-12-01</td>\n",
       "    </tr>\n",
       "    <tr>\n",
       "      <th>72200</th>\n",
       "      <td>2017-05-01</td>\n",
       "      <td>2004-11-01</td>\n",
       "      <td>2017-12-01</td>\n",
       "      <td>2018-01-01</td>\n",
       "      <td>2017-12-01</td>\n",
       "    </tr>\n",
       "    <tr>\n",
       "      <th>...</th>\n",
       "      <td>...</td>\n",
       "      <td>...</td>\n",
       "      <td>...</td>\n",
       "      <td>...</td>\n",
       "      <td>...</td>\n",
       "    </tr>\n",
       "    <tr>\n",
       "      <th>501469</th>\n",
       "      <td>2016-04-01</td>\n",
       "      <td>1993-03-01</td>\n",
       "      <td>2017-12-01</td>\n",
       "      <td>2018-01-01</td>\n",
       "      <td>2017-12-01</td>\n",
       "    </tr>\n",
       "    <tr>\n",
       "      <th>23753</th>\n",
       "      <td>2017-06-01</td>\n",
       "      <td>1996-04-01</td>\n",
       "      <td>2017-12-01</td>\n",
       "      <td>2018-01-01</td>\n",
       "      <td>2017-12-01</td>\n",
       "    </tr>\n",
       "    <tr>\n",
       "      <th>576159</th>\n",
       "      <td>2016-11-01</td>\n",
       "      <td>2002-08-01</td>\n",
       "      <td>2017-12-01</td>\n",
       "      <td>2018-01-01</td>\n",
       "      <td>2017-12-01</td>\n",
       "    </tr>\n",
       "    <tr>\n",
       "      <th>88067</th>\n",
       "      <td>2017-04-01</td>\n",
       "      <td>1983-03-01</td>\n",
       "      <td>2017-12-01</td>\n",
       "      <td>2018-01-01</td>\n",
       "      <td>2017-12-01</td>\n",
       "    </tr>\n",
       "    <tr>\n",
       "      <th>285515</th>\n",
       "      <td>2016-07-01</td>\n",
       "      <td>1987-08-01</td>\n",
       "      <td>2017-12-01</td>\n",
       "      <td>2018-01-01</td>\n",
       "      <td>2017-12-01</td>\n",
       "    </tr>\n",
       "  </tbody>\n",
       "</table>\n",
       "<p>522282 rows × 5 columns</p>\n",
       "</div>"
      ],
      "text/plain": [
       "          issue_d earliest_cr_line last_pymnt_d next_pymnt_d  \\\n",
       "381958 2017-08-01       1993-11-01   2017-12-01   2018-01-01   \n",
       "135266 2017-03-01       2001-08-01   2017-09-01          NaT   \n",
       "451467 2016-06-01       1998-01-01   2017-01-01          NaT   \n",
       "596565 2016-10-01       1994-11-01   2017-12-01   2018-01-01   \n",
       "72200  2017-05-01       2004-11-01   2017-12-01   2018-01-01   \n",
       "...           ...              ...          ...          ...   \n",
       "501469 2016-04-01       1993-03-01   2017-12-01   2018-01-01   \n",
       "23753  2017-06-01       1996-04-01   2017-12-01   2018-01-01   \n",
       "576159 2016-11-01       2002-08-01   2017-12-01   2018-01-01   \n",
       "88067  2017-04-01       1983-03-01   2017-12-01   2018-01-01   \n",
       "285515 2016-07-01       1987-08-01   2017-12-01   2018-01-01   \n",
       "\n",
       "       last_credit_pull_d  \n",
       "381958         2017-12-01  \n",
       "135266         2017-12-01  \n",
       "451467         2017-01-01  \n",
       "596565         2017-12-01  \n",
       "72200          2017-12-01  \n",
       "...                   ...  \n",
       "501469         2017-12-01  \n",
       "23753          2017-12-01  \n",
       "576159         2017-12-01  \n",
       "88067          2017-12-01  \n",
       "285515         2017-12-01  \n",
       "\n",
       "[522282 rows x 5 columns]"
      ]
     },
     "execution_count": 100,
     "metadata": {},
     "output_type": "execute_result"
    }
   ],
   "source": [
    "X_train[col_date]"
   ]
  },
  {
   "cell_type": "code",
   "execution_count": 101,
   "id": "ad380a79",
   "metadata": {},
   "outputs": [],
   "source": [
    "X_test ['term'] = pd.to_numeric(X_test['term'].str.replace('months', ''))\n",
    "\n",
    "X_test['emp_length'] = X_test['emp_length'].str.replace('+ years', '')\n",
    "X_test['emp_length'] = X_test['emp_length'].str.replace('+', '')\n",
    "X_test['emp_length'] = X_test['emp_length'].str.replace(' years', '')\n",
    "X_test['emp_length'] = X_test['emp_length'].str.replace('< 1 year', str(0))\n",
    "X_test['emp_length'] = X_test['emp_length'].str.replace(' year', '')\n",
    "\n",
    "X_test['emp_length'].fillna(value = 0, inplace = True)\n",
    "X_test['emp_length'] = pd.to_numeric(X_test['emp_length'])\n",
    "\n",
    "for col in col_date:\n",
    "    X_test[col] = pd.to_datetime(X_test[col])"
   ]
  },
  {
   "cell_type": "code",
   "execution_count": 102,
   "id": "9e20d018",
   "metadata": {},
   "outputs": [
    {
     "name": "stdout",
     "output_type": "stream",
     "text": [
      "<class 'pandas.core.frame.DataFrame'>\n",
      "Index: 130571 entries, 638298 to 487708\n",
      "Data columns (total 7 columns):\n",
      " #   Column              Non-Null Count   Dtype         \n",
      "---  ------              --------------   -----         \n",
      " 0   term                130571 non-null  int64         \n",
      " 1   emp_length          130571 non-null  int64         \n",
      " 2   issue_d             130571 non-null  datetime64[ns]\n",
      " 3   earliest_cr_line    130571 non-null  datetime64[ns]\n",
      " 4   last_pymnt_d        130393 non-null  datetime64[ns]\n",
      " 5   next_pymnt_d        105163 non-null  datetime64[ns]\n",
      " 6   last_credit_pull_d  130570 non-null  datetime64[ns]\n",
      "dtypes: datetime64[ns](5), int64(2)\n",
      "memory usage: 8.0 MB\n"
     ]
    }
   ],
   "source": [
    "X_test[col_need_to_clean].info()"
   ]
  },
  {
   "cell_type": "markdown",
   "id": "773ea391",
   "metadata": {},
   "source": [
    "# 6. Feature Engineering"
   ]
  },
  {
   "cell_type": "code",
   "execution_count": 103,
   "id": "f27d30e4",
   "metadata": {},
   "outputs": [
    {
     "data": {
      "text/plain": [
       "((522282, 65), (522282,), (130571, 65), (130571,))"
      ]
     },
     "execution_count": 103,
     "metadata": {},
     "output_type": "execute_result"
    }
   ],
   "source": [
    "X_train.shape, y_train.shape, X_test.shape, y_test.shape"
   ]
  },
  {
   "cell_type": "code",
   "execution_count": 104,
   "id": "a446a30d",
   "metadata": {},
   "outputs": [
    {
     "data": {
      "text/plain": [
       "['term',\n",
       " 'emp_length',\n",
       " 'issue_d',\n",
       " 'earliest_cr_line',\n",
       " 'last_pymnt_d',\n",
       " 'next_pymnt_d',\n",
       " 'last_credit_pull_d']"
      ]
     },
     "execution_count": 104,
     "metadata": {},
     "output_type": "execute_result"
    }
   ],
   "source": [
    "col_need_to_clean"
   ]
  },
  {
   "cell_type": "code",
   "execution_count": 105,
   "id": "2e43b7aa",
   "metadata": {},
   "outputs": [
    {
     "data": {
      "text/html": [
       "<div>\n",
       "<style scoped>\n",
       "    .dataframe tbody tr th:only-of-type {\n",
       "        vertical-align: middle;\n",
       "    }\n",
       "\n",
       "    .dataframe tbody tr th {\n",
       "        vertical-align: top;\n",
       "    }\n",
       "\n",
       "    .dataframe thead th {\n",
       "        text-align: right;\n",
       "    }\n",
       "</style>\n",
       "<table border=\"1\" class=\"dataframe\">\n",
       "  <thead>\n",
       "    <tr style=\"text-align: right;\">\n",
       "      <th></th>\n",
       "      <th>term</th>\n",
       "      <th>emp_length</th>\n",
       "      <th>issue_d</th>\n",
       "      <th>earliest_cr_line</th>\n",
       "      <th>last_pymnt_d</th>\n",
       "      <th>next_pymnt_d</th>\n",
       "      <th>last_credit_pull_d</th>\n",
       "    </tr>\n",
       "  </thead>\n",
       "  <tbody>\n",
       "    <tr>\n",
       "      <th>381958</th>\n",
       "      <td>36</td>\n",
       "      <td>2</td>\n",
       "      <td>2017-08-01</td>\n",
       "      <td>1993-11-01</td>\n",
       "      <td>2017-12-01</td>\n",
       "      <td>2018-01-01</td>\n",
       "      <td>2017-12-01</td>\n",
       "    </tr>\n",
       "    <tr>\n",
       "      <th>135266</th>\n",
       "      <td>60</td>\n",
       "      <td>5</td>\n",
       "      <td>2017-03-01</td>\n",
       "      <td>2001-08-01</td>\n",
       "      <td>2017-09-01</td>\n",
       "      <td>NaT</td>\n",
       "      <td>2017-12-01</td>\n",
       "    </tr>\n",
       "    <tr>\n",
       "      <th>451467</th>\n",
       "      <td>60</td>\n",
       "      <td>10</td>\n",
       "      <td>2016-06-01</td>\n",
       "      <td>1998-01-01</td>\n",
       "      <td>2017-01-01</td>\n",
       "      <td>NaT</td>\n",
       "      <td>2017-01-01</td>\n",
       "    </tr>\n",
       "    <tr>\n",
       "      <th>596565</th>\n",
       "      <td>60</td>\n",
       "      <td>0</td>\n",
       "      <td>2016-10-01</td>\n",
       "      <td>1994-11-01</td>\n",
       "      <td>2017-12-01</td>\n",
       "      <td>2018-01-01</td>\n",
       "      <td>2017-12-01</td>\n",
       "    </tr>\n",
       "    <tr>\n",
       "      <th>72200</th>\n",
       "      <td>60</td>\n",
       "      <td>8</td>\n",
       "      <td>2017-05-01</td>\n",
       "      <td>2004-11-01</td>\n",
       "      <td>2017-12-01</td>\n",
       "      <td>2018-01-01</td>\n",
       "      <td>2017-12-01</td>\n",
       "    </tr>\n",
       "    <tr>\n",
       "      <th>...</th>\n",
       "      <td>...</td>\n",
       "      <td>...</td>\n",
       "      <td>...</td>\n",
       "      <td>...</td>\n",
       "      <td>...</td>\n",
       "      <td>...</td>\n",
       "      <td>...</td>\n",
       "    </tr>\n",
       "    <tr>\n",
       "      <th>501469</th>\n",
       "      <td>36</td>\n",
       "      <td>10</td>\n",
       "      <td>2016-04-01</td>\n",
       "      <td>1993-03-01</td>\n",
       "      <td>2017-12-01</td>\n",
       "      <td>2018-01-01</td>\n",
       "      <td>2017-12-01</td>\n",
       "    </tr>\n",
       "    <tr>\n",
       "      <th>23753</th>\n",
       "      <td>60</td>\n",
       "      <td>10</td>\n",
       "      <td>2017-06-01</td>\n",
       "      <td>1996-04-01</td>\n",
       "      <td>2017-12-01</td>\n",
       "      <td>2018-01-01</td>\n",
       "      <td>2017-12-01</td>\n",
       "    </tr>\n",
       "    <tr>\n",
       "      <th>576159</th>\n",
       "      <td>60</td>\n",
       "      <td>10</td>\n",
       "      <td>2016-11-01</td>\n",
       "      <td>2002-08-01</td>\n",
       "      <td>2017-12-01</td>\n",
       "      <td>2018-01-01</td>\n",
       "      <td>2017-12-01</td>\n",
       "    </tr>\n",
       "    <tr>\n",
       "      <th>88067</th>\n",
       "      <td>36</td>\n",
       "      <td>10</td>\n",
       "      <td>2017-04-01</td>\n",
       "      <td>1983-03-01</td>\n",
       "      <td>2017-12-01</td>\n",
       "      <td>2018-01-01</td>\n",
       "      <td>2017-12-01</td>\n",
       "    </tr>\n",
       "    <tr>\n",
       "      <th>285515</th>\n",
       "      <td>36</td>\n",
       "      <td>10</td>\n",
       "      <td>2016-07-01</td>\n",
       "      <td>1987-08-01</td>\n",
       "      <td>2017-12-01</td>\n",
       "      <td>2018-01-01</td>\n",
       "      <td>2017-12-01</td>\n",
       "    </tr>\n",
       "  </tbody>\n",
       "</table>\n",
       "<p>522282 rows × 7 columns</p>\n",
       "</div>"
      ],
      "text/plain": [
       "        term  emp_length    issue_d earliest_cr_line last_pymnt_d  \\\n",
       "381958    36           2 2017-08-01       1993-11-01   2017-12-01   \n",
       "135266    60           5 2017-03-01       2001-08-01   2017-09-01   \n",
       "451467    60          10 2016-06-01       1998-01-01   2017-01-01   \n",
       "596565    60           0 2016-10-01       1994-11-01   2017-12-01   \n",
       "72200     60           8 2017-05-01       2004-11-01   2017-12-01   \n",
       "...      ...         ...        ...              ...          ...   \n",
       "501469    36          10 2016-04-01       1993-03-01   2017-12-01   \n",
       "23753     60          10 2017-06-01       1996-04-01   2017-12-01   \n",
       "576159    60          10 2016-11-01       2002-08-01   2017-12-01   \n",
       "88067     36          10 2017-04-01       1983-03-01   2017-12-01   \n",
       "285515    36          10 2016-07-01       1987-08-01   2017-12-01   \n",
       "\n",
       "       next_pymnt_d last_credit_pull_d  \n",
       "381958   2018-01-01         2017-12-01  \n",
       "135266          NaT         2017-12-01  \n",
       "451467          NaT         2017-01-01  \n",
       "596565   2018-01-01         2017-12-01  \n",
       "72200    2018-01-01         2017-12-01  \n",
       "...             ...                ...  \n",
       "501469   2018-01-01         2017-12-01  \n",
       "23753    2018-01-01         2017-12-01  \n",
       "576159   2018-01-01         2017-12-01  \n",
       "88067    2018-01-01         2017-12-01  \n",
       "285515   2018-01-01         2017-12-01  \n",
       "\n",
       "[522282 rows x 7 columns]"
      ]
     },
     "execution_count": 105,
     "metadata": {},
     "output_type": "execute_result"
    }
   ],
   "source": [
    "X_train[col_need_to_clean]"
   ]
  },
  {
   "cell_type": "code",
   "execution_count": 106,
   "id": "92c43f07",
   "metadata": {},
   "outputs": [],
   "source": [
    "X_train = X_train[col_need_to_clean]\n",
    "X_test = X_test[col_need_to_clean]"
   ]
  },
  {
   "cell_type": "code",
   "execution_count": 107,
   "id": "a4a8b6b7",
   "metadata": {},
   "outputs": [],
   "source": [
    "del X_train['next_pymnt_d']\n",
    "del X_test['next_pymnt_d']"
   ]
  },
  {
   "cell_type": "code",
   "execution_count": 108,
   "id": "151eab2e",
   "metadata": {},
   "outputs": [
    {
     "data": {
      "text/plain": [
       "((522282, 6), (130571, 6))"
      ]
     },
     "execution_count": 108,
     "metadata": {},
     "output_type": "execute_result"
    }
   ],
   "source": [
    "X_train.shape, X_test.shape"
   ]
  },
  {
   "cell_type": "code",
   "execution_count": 109,
   "id": "5325dacc",
   "metadata": {},
   "outputs": [
    {
     "data": {
      "text/plain": [
       "'2023-08-08'"
      ]
     },
     "execution_count": 109,
     "metadata": {},
     "output_type": "execute_result"
    }
   ],
   "source": [
    "from datetime import date\n",
    "\n",
    "date.today().strftime('%Y-%m-%d')"
   ]
  },
  {
   "cell_type": "code",
   "execution_count": 110,
   "id": "c7e67053",
   "metadata": {},
   "outputs": [
    {
     "data": {
      "text/plain": [
       "Timedelta('2379 days 00:00:00')"
      ]
     },
     "execution_count": 110,
     "metadata": {},
     "output_type": "execute_result"
    }
   ],
   "source": [
    "pd.to_datetime(date.today().strftime('%Y-%m-%d')) - pd.to_datetime('2017-02-01')"
   ]
  },
  {
   "cell_type": "code",
   "execution_count": 111,
   "id": "ee52dc3a",
   "metadata": {},
   "outputs": [],
   "source": [
    "def date_columns(df, column):\n",
    "    today_date = pd.to_datetime(date.today().strftime('%Y-%m-%d'))\n",
    "    df[column] = pd.to_datetime(df[column], format = '%b-%y')\n",
    "    df['mths_since_' + column] = round(pd.to_numeric((today_date - df[column]) / np.timedelta64(1, 'M')))\n",
    "    df.drop(columns = [column], inplace = True)\n",
    "    \n",
    "# Apply to X_train\n",
    "date_columns(X_train, 'earliest_cr_line')\n",
    "date_columns(X_train, 'issue_d')\n",
    "date_columns(X_train, 'last_pymnt_d')\n",
    "date_columns(X_train, 'last_credit_pull_d')\n",
    "    "
   ]
  },
  {
   "cell_type": "code",
   "execution_count": 112,
   "id": "4b950438",
   "metadata": {},
   "outputs": [
    {
     "data": {
      "text/html": [
       "<div>\n",
       "<style scoped>\n",
       "    .dataframe tbody tr th:only-of-type {\n",
       "        vertical-align: middle;\n",
       "    }\n",
       "\n",
       "    .dataframe tbody tr th {\n",
       "        vertical-align: top;\n",
       "    }\n",
       "\n",
       "    .dataframe thead th {\n",
       "        text-align: right;\n",
       "    }\n",
       "</style>\n",
       "<table border=\"1\" class=\"dataframe\">\n",
       "  <thead>\n",
       "    <tr style=\"text-align: right;\">\n",
       "      <th></th>\n",
       "      <th>term</th>\n",
       "      <th>emp_length</th>\n",
       "      <th>mths_since_earliest_cr_line</th>\n",
       "      <th>mths_since_issue_d</th>\n",
       "      <th>mths_since_last_pymnt_d</th>\n",
       "      <th>mths_since_last_credit_pull_d</th>\n",
       "    </tr>\n",
       "  </thead>\n",
       "  <tbody>\n",
       "    <tr>\n",
       "      <th>381958</th>\n",
       "      <td>36</td>\n",
       "      <td>2</td>\n",
       "      <td>351.0</td>\n",
       "      <td>71.0</td>\n",
       "      <td>67.0</td>\n",
       "      <td>67.0</td>\n",
       "    </tr>\n",
       "    <tr>\n",
       "      <th>135266</th>\n",
       "      <td>60</td>\n",
       "      <td>5</td>\n",
       "      <td>259.0</td>\n",
       "      <td>76.0</td>\n",
       "      <td>70.0</td>\n",
       "      <td>67.0</td>\n",
       "    </tr>\n",
       "    <tr>\n",
       "      <th>451467</th>\n",
       "      <td>60</td>\n",
       "      <td>10</td>\n",
       "      <td>302.0</td>\n",
       "      <td>85.0</td>\n",
       "      <td>78.0</td>\n",
       "      <td>78.0</td>\n",
       "    </tr>\n",
       "    <tr>\n",
       "      <th>596565</th>\n",
       "      <td>60</td>\n",
       "      <td>0</td>\n",
       "      <td>339.0</td>\n",
       "      <td>81.0</td>\n",
       "      <td>67.0</td>\n",
       "      <td>67.0</td>\n",
       "    </tr>\n",
       "    <tr>\n",
       "      <th>72200</th>\n",
       "      <td>60</td>\n",
       "      <td>8</td>\n",
       "      <td>221.0</td>\n",
       "      <td>74.0</td>\n",
       "      <td>67.0</td>\n",
       "      <td>67.0</td>\n",
       "    </tr>\n",
       "    <tr>\n",
       "      <th>...</th>\n",
       "      <td>...</td>\n",
       "      <td>...</td>\n",
       "      <td>...</td>\n",
       "      <td>...</td>\n",
       "      <td>...</td>\n",
       "      <td>...</td>\n",
       "    </tr>\n",
       "    <tr>\n",
       "      <th>501469</th>\n",
       "      <td>36</td>\n",
       "      <td>10</td>\n",
       "      <td>359.0</td>\n",
       "      <td>87.0</td>\n",
       "      <td>67.0</td>\n",
       "      <td>67.0</td>\n",
       "    </tr>\n",
       "    <tr>\n",
       "      <th>23753</th>\n",
       "      <td>60</td>\n",
       "      <td>10</td>\n",
       "      <td>322.0</td>\n",
       "      <td>73.0</td>\n",
       "      <td>67.0</td>\n",
       "      <td>67.0</td>\n",
       "    </tr>\n",
       "    <tr>\n",
       "      <th>576159</th>\n",
       "      <td>60</td>\n",
       "      <td>10</td>\n",
       "      <td>248.0</td>\n",
       "      <td>80.0</td>\n",
       "      <td>67.0</td>\n",
       "      <td>67.0</td>\n",
       "    </tr>\n",
       "    <tr>\n",
       "      <th>88067</th>\n",
       "      <td>36</td>\n",
       "      <td>10</td>\n",
       "      <td>476.0</td>\n",
       "      <td>75.0</td>\n",
       "      <td>67.0</td>\n",
       "      <td>67.0</td>\n",
       "    </tr>\n",
       "    <tr>\n",
       "      <th>285515</th>\n",
       "      <td>36</td>\n",
       "      <td>10</td>\n",
       "      <td>424.0</td>\n",
       "      <td>84.0</td>\n",
       "      <td>67.0</td>\n",
       "      <td>67.0</td>\n",
       "    </tr>\n",
       "  </tbody>\n",
       "</table>\n",
       "<p>522282 rows × 6 columns</p>\n",
       "</div>"
      ],
      "text/plain": [
       "        term  emp_length  mths_since_earliest_cr_line  mths_since_issue_d  \\\n",
       "381958    36           2                        351.0                71.0   \n",
       "135266    60           5                        259.0                76.0   \n",
       "451467    60          10                        302.0                85.0   \n",
       "596565    60           0                        339.0                81.0   \n",
       "72200     60           8                        221.0                74.0   \n",
       "...      ...         ...                          ...                 ...   \n",
       "501469    36          10                        359.0                87.0   \n",
       "23753     60          10                        322.0                73.0   \n",
       "576159    60          10                        248.0                80.0   \n",
       "88067     36          10                        476.0                75.0   \n",
       "285515    36          10                        424.0                84.0   \n",
       "\n",
       "        mths_since_last_pymnt_d  mths_since_last_credit_pull_d  \n",
       "381958                     67.0                           67.0  \n",
       "135266                     70.0                           67.0  \n",
       "451467                     78.0                           78.0  \n",
       "596565                     67.0                           67.0  \n",
       "72200                      67.0                           67.0  \n",
       "...                         ...                            ...  \n",
       "501469                     67.0                           67.0  \n",
       "23753                      67.0                           67.0  \n",
       "576159                     67.0                           67.0  \n",
       "88067                      67.0                           67.0  \n",
       "285515                     67.0                           67.0  \n",
       "\n",
       "[522282 rows x 6 columns]"
      ]
     },
     "execution_count": 112,
     "metadata": {},
     "output_type": "execute_result"
    }
   ],
   "source": [
    "X_train"
   ]
  },
  {
   "cell_type": "code",
   "execution_count": 113,
   "id": "c804968e",
   "metadata": {},
   "outputs": [],
   "source": [
    "# Apply to X_test\n",
    "date_columns(X_test, 'earliest_cr_line')\n",
    "date_columns(X_test, 'issue_d')\n",
    "date_columns(X_test, 'last_pymnt_d')\n",
    "date_columns(X_test, 'last_credit_pull_d')"
   ]
  },
  {
   "cell_type": "code",
   "execution_count": 115,
   "id": "a176dbfc",
   "metadata": {},
   "outputs": [
    {
     "data": {
      "text/plain": [
       "term                               0\n",
       "emp_length                         0\n",
       "mths_since_earliest_cr_line        0\n",
       "mths_since_issue_d                 0\n",
       "mths_since_last_pymnt_d          178\n",
       "mths_since_last_credit_pull_d      1\n",
       "dtype: int64"
      ]
     },
     "execution_count": 115,
     "metadata": {},
     "output_type": "execute_result"
    }
   ],
   "source": [
    "X_test.isnull().sum()"
   ]
  },
  {
   "cell_type": "code",
   "execution_count": 116,
   "id": "5beabc58",
   "metadata": {},
   "outputs": [
    {
     "data": {
      "text/plain": [
       "term                               0\n",
       "emp_length                         0\n",
       "mths_since_earliest_cr_line        0\n",
       "mths_since_issue_d                 0\n",
       "mths_since_last_pymnt_d          652\n",
       "mths_since_last_credit_pull_d     16\n",
       "dtype: int64"
      ]
     },
     "execution_count": 116,
     "metadata": {},
     "output_type": "execute_result"
    }
   ],
   "source": [
    "X_train.isnull().sum()"
   ]
  },
  {
   "cell_type": "code",
   "execution_count": 117,
   "id": "4edc837a",
   "metadata": {},
   "outputs": [],
   "source": [
    "X_train.fillna(X_train.median(), inplace = True)\n",
    "X_test.fillna(X_test.median(), inplace = True)"
   ]
  },
  {
   "cell_type": "code",
   "execution_count": 118,
   "id": "362012cc",
   "metadata": {},
   "outputs": [
    {
     "data": {
      "text/plain": [
       "term                             0\n",
       "emp_length                       0\n",
       "mths_since_earliest_cr_line      0\n",
       "mths_since_issue_d               0\n",
       "mths_since_last_pymnt_d          0\n",
       "mths_since_last_credit_pull_d    0\n",
       "dtype: int64"
      ]
     },
     "execution_count": 118,
     "metadata": {},
     "output_type": "execute_result"
    }
   ],
   "source": [
    "X_train.isnull().sum()"
   ]
  },
  {
   "cell_type": "markdown",
   "id": "8e351327",
   "metadata": {},
   "source": [
    "# 7. Modelling"
   ]
  },
  {
   "cell_type": "code",
   "execution_count": 119,
   "id": "2f9e2e73",
   "metadata": {},
   "outputs": [],
   "source": [
    "from sklearn.linear_model import LogisticRegression"
   ]
  },
  {
   "cell_type": "code",
   "execution_count": 120,
   "id": "ead0a164",
   "metadata": {},
   "outputs": [],
   "source": [
    "model = LogisticRegression()"
   ]
  },
  {
   "cell_type": "code",
   "execution_count": 122,
   "id": "d8b6f1f2",
   "metadata": {},
   "outputs": [],
   "source": [
    "model.fit(X_train, y_train)\n",
    "y_pred = model.predict(X_test)"
   ]
  },
  {
   "cell_type": "code",
   "execution_count": 123,
   "id": "d14a9cd2",
   "metadata": {},
   "outputs": [
    {
     "data": {
      "text/html": [
       "<div>\n",
       "<style scoped>\n",
       "    .dataframe tbody tr th:only-of-type {\n",
       "        vertical-align: middle;\n",
       "    }\n",
       "\n",
       "    .dataframe tbody tr th {\n",
       "        vertical-align: top;\n",
       "    }\n",
       "\n",
       "    .dataframe thead th {\n",
       "        text-align: right;\n",
       "    }\n",
       "</style>\n",
       "<table border=\"1\" class=\"dataframe\">\n",
       "  <thead>\n",
       "    <tr style=\"text-align: right;\">\n",
       "      <th></th>\n",
       "      <th>y_pred</th>\n",
       "      <th>y_test</th>\n",
       "    </tr>\n",
       "  </thead>\n",
       "  <tbody>\n",
       "    <tr>\n",
       "      <th>0</th>\n",
       "      <td>0</td>\n",
       "      <td>0</td>\n",
       "    </tr>\n",
       "    <tr>\n",
       "      <th>1</th>\n",
       "      <td>0</td>\n",
       "      <td>0</td>\n",
       "    </tr>\n",
       "    <tr>\n",
       "      <th>2</th>\n",
       "      <td>0</td>\n",
       "      <td>0</td>\n",
       "    </tr>\n",
       "    <tr>\n",
       "      <th>3</th>\n",
       "      <td>0</td>\n",
       "      <td>0</td>\n",
       "    </tr>\n",
       "    <tr>\n",
       "      <th>4</th>\n",
       "      <td>0</td>\n",
       "      <td>0</td>\n",
       "    </tr>\n",
       "  </tbody>\n",
       "</table>\n",
       "</div>"
      ],
      "text/plain": [
       "   y_pred  y_test\n",
       "0       0       0\n",
       "1       0       0\n",
       "2       0       0\n",
       "3       0       0\n",
       "4       0       0"
      ]
     },
     "execution_count": 123,
     "metadata": {},
     "output_type": "execute_result"
    }
   ],
   "source": [
    "result = pd.DataFrame(list(zip(y_pred,y_test)), columns = ['y_pred', 'y_test'])\n",
    "result.head()"
   ]
  },
  {
   "cell_type": "code",
   "execution_count": 131,
   "id": "dafa6a82",
   "metadata": {},
   "outputs": [
    {
     "data": {
      "text/plain": [
       "0.9267678121481799"
      ]
     },
     "execution_count": 131,
     "metadata": {},
     "output_type": "execute_result"
    }
   ],
   "source": [
    "from sklearn.metrics import accuracy_score\n",
    "accuracy_score(y_test, y_pred)\n",
    "\n",
    "## accuracy_score kurang cocok untuk dijadikan metric karena kasus credit risk model merupakan tipe imbalance, \n",
    "## dimana good dan bad creditnya memiliki value yang tidak seimbang"
   ]
  },
  {
   "cell_type": "code",
   "execution_count": 132,
   "id": "5d5803d4",
   "metadata": {},
   "outputs": [],
   "source": [
    "from sklearn.metrics import confusion_matrix\n",
    "import matplotlib.pyplot as plt\n",
    "import seaborn as sns"
   ]
  },
  {
   "cell_type": "code",
   "execution_count": 133,
   "id": "36977ed1",
   "metadata": {},
   "outputs": [
    {
     "data": {
      "image/png": "[encoded data removed]",
      "text/plain": [
       "<Figure size 432x288 with 2 Axes>"
      ]
     },
     "metadata": {
      "needs_background": "light"
     },
     "output_type": "display_data"
    }
   ],
   "source": [
    "cm = confusion_matrix(y_test, y_pred)\n",
    "\n",
    "sns.heatmap(cm, annot = True, fmt = '.0f', cmap = plt.cm.Blues)\n",
    "plt.xlabel('y_pred')\n",
    "plt.ylabel('y_test')\n",
    "\n",
    "plt.show()"
   ]
  },
  {
   "cell_type": "code",
   "execution_count": 134,
   "id": "681380b0",
   "metadata": {},
   "outputs": [
    {
     "data": {
      "text/plain": [
       "good_bad\n",
       "0    0.934773\n",
       "1    0.065227\n",
       "Name: proportion, dtype: float64"
      ]
     },
     "execution_count": 134,
     "metadata": {},
     "output_type": "execute_result"
    }
   ],
   "source": [
    "y_train.value_counts(normalize = True)"
   ]
  },
  {
   "cell_type": "markdown",
   "id": "ac750f37",
   "metadata": {},
   "source": [
    "# 8. Modelling 2"
   ]
  },
  {
   "cell_type": "code",
   "execution_count": 137,
   "id": "d2f48c5f",
   "metadata": {},
   "outputs": [],
   "source": [
    "y_pred = model.predict_proba(X_test)[:,1]"
   ]
  },
  {
   "cell_type": "code",
   "execution_count": 138,
   "id": "9ea79fc4",
   "metadata": {},
   "outputs": [
    {
     "data": {
      "text/plain": [
       "array([0, 0, 0, ..., 0, 0, 1])"
      ]
     },
     "execution_count": 138,
     "metadata": {},
     "output_type": "execute_result"
    }
   ],
   "source": [
    "(y_pred > 0.5).astype(int)"
   ]
  },
  {
   "cell_type": "code",
   "execution_count": 139,
   "id": "d572b501",
   "metadata": {},
   "outputs": [
    {
     "data": {
      "text/plain": [
       "(array([116276.,   6097.,   2977.,   1660.,   1060.,    753.,    569.,\n",
       "           490.,    419.,    270.]),\n",
       " array([5.58654269e-04, 9.64779923e-02, 1.92397330e-01, 2.88316668e-01,\n",
       "        3.84236006e-01, 4.80155344e-01, 5.76074682e-01, 6.71994020e-01,\n",
       "        7.67913358e-01, 8.63832696e-01, 9.59752034e-01]),\n",
       " <BarContainer object of 10 artists>)"
      ]
     },
     "execution_count": 139,
     "metadata": {},
     "output_type": "execute_result"
    },
    {
     "data": {
      "image/png": "[encoded data removed]",
      "text/plain": [
       "<Figure size 432x288 with 1 Axes>"
      ]
     },
     "metadata": {
      "needs_background": "light"
     },
     "output_type": "display_data"
    }
   ],
   "source": [
    "plt.hist(y_pred)"
   ]
  },
  {
   "cell_type": "code",
   "execution_count": 141,
   "id": "b1bca473",
   "metadata": {},
   "outputs": [],
   "source": [
    "from sklearn.metrics import roc_curve\n",
    "\n",
    "fpr, tpr, thresholds = roc_curve(y_test, y_pred)"
   ]
  },
  {
   "cell_type": "code",
   "execution_count": 142,
   "id": "203739de",
   "metadata": {},
   "outputs": [
    {
     "data": {
      "text/plain": [
       "array([1.95975203e+00, 9.59752034e-01, 9.45730715e-01, ...,\n",
       "       1.26843059e-03, 6.23945554e-04, 5.58654269e-04])"
      ]
     },
     "execution_count": 142,
     "metadata": {},
     "output_type": "execute_result"
    }
   ],
   "source": [
    "thresholds"
   ]
  },
  {
   "cell_type": "code",
   "execution_count": 143,
   "id": "f7f76b35",
   "metadata": {},
   "outputs": [
    {
     "data": {
      "text/plain": [
       "0.06207660304446486"
      ]
     },
     "execution_count": 143,
     "metadata": {},
     "output_type": "execute_result"
    }
   ],
   "source": [
    "# YOUDEN J-STATISTIC\n",
    "j = tpr - fpr\n",
    "\n",
    "ix = np.argmax(j)\n",
    "best_thresh = thresholds[ix]\n",
    "best_thresh"
   ]
  },
  {
   "cell_type": "code",
   "execution_count": 145,
   "id": "de00026b",
   "metadata": {},
   "outputs": [],
   "source": [
    "y_pred = model.predict_proba(X_test)[:,1]\n",
    "y_pred = (y_pred > 0.066).astype(int)"
   ]
  },
  {
   "cell_type": "code",
   "execution_count": 146,
   "id": "f8be6bf5",
   "metadata": {},
   "outputs": [
    {
     "data": {
      "image/png": "[encoded data removed]",
      "text/plain": [
       "<Figure size 432x288 with 2 Axes>"
      ]
     },
     "metadata": {
      "needs_background": "light"
     },
     "output_type": "display_data"
    }
   ],
   "source": [
    "cm = confusion_matrix(y_test, y_pred)\n",
    "\n",
    "sns.heatmap(cm, annot = True, fmt = '.0f', cmap = plt.cm.Blues)\n",
    "plt.xlabel('y_pred')\n",
    "plt.ylabel('y_test')\n",
    "\n",
    "plt.show()"
   ]
  },
  {
   "cell_type": "code",
   "execution_count": 147,
   "id": "d860e908",
   "metadata": {},
   "outputs": [
    {
     "data": {
      "text/plain": [
       "array([[ 0.01584933, -0.03066572, -0.00101928,  0.05656526,  0.27952816,\n",
       "        -0.20997279]])"
      ]
     },
     "execution_count": 147,
     "metadata": {},
     "output_type": "execute_result"
    }
   ],
   "source": [
    "model.coef_"
   ]
  },
  {
   "cell_type": "code",
   "execution_count": 149,
   "id": "89274196",
   "metadata": {},
   "outputs": [
    {
     "data": {
      "text/html": [
       "<div>\n",
       "<style scoped>\n",
       "    .dataframe tbody tr th:only-of-type {\n",
       "        vertical-align: middle;\n",
       "    }\n",
       "\n",
       "    .dataframe tbody tr th {\n",
       "        vertical-align: top;\n",
       "    }\n",
       "\n",
       "    .dataframe thead th {\n",
       "        text-align: right;\n",
       "    }\n",
       "</style>\n",
       "<table border=\"1\" class=\"dataframe\">\n",
       "  <thead>\n",
       "    <tr style=\"text-align: right;\">\n",
       "      <th></th>\n",
       "      <th>term</th>\n",
       "      <th>emp_length</th>\n",
       "      <th>mths_since_earliest_cr_line</th>\n",
       "      <th>mths_since_issue_d</th>\n",
       "      <th>mths_since_last_pymnt_d</th>\n",
       "      <th>mths_since_last_credit_pull_d</th>\n",
       "    </tr>\n",
       "  </thead>\n",
       "  <tbody>\n",
       "    <tr>\n",
       "      <th>0</th>\n",
       "      <td>0.015849</td>\n",
       "      <td>-0.030666</td>\n",
       "      <td>-0.001019</td>\n",
       "      <td>0.056565</td>\n",
       "      <td>0.279528</td>\n",
       "      <td>-0.209973</td>\n",
       "    </tr>\n",
       "  </tbody>\n",
       "</table>\n",
       "</div>"
      ],
      "text/plain": [
       "       term  emp_length  mths_since_earliest_cr_line  mths_since_issue_d  \\\n",
       "0  0.015849   -0.030666                    -0.001019            0.056565   \n",
       "\n",
       "   mths_since_last_pymnt_d  mths_since_last_credit_pull_d  \n",
       "0                 0.279528                      -0.209973  "
      ]
     },
     "execution_count": 149,
     "metadata": {},
     "output_type": "execute_result"
    }
   ],
   "source": [
    "df_coeff = pd.DataFrame(model.coef_, columns = X_train.columns)\n",
    "df_coeff"
   ]
  },
  {
   "cell_type": "code",
   "execution_count": 150,
   "id": "8caad847",
   "metadata": {},
   "outputs": [
    {
     "data": {
      "text/html": [
       "<div>\n",
       "<style scoped>\n",
       "    .dataframe tbody tr th:only-of-type {\n",
       "        vertical-align: middle;\n",
       "    }\n",
       "\n",
       "    .dataframe tbody tr th {\n",
       "        vertical-align: top;\n",
       "    }\n",
       "\n",
       "    .dataframe thead th {\n",
       "        text-align: right;\n",
       "    }\n",
       "</style>\n",
       "<table border=\"1\" class=\"dataframe\">\n",
       "  <thead>\n",
       "    <tr style=\"text-align: right;\">\n",
       "      <th></th>\n",
       "      <th>term</th>\n",
       "      <th>emp_length</th>\n",
       "      <th>mths_since_earliest_cr_line</th>\n",
       "      <th>mths_since_issue_d</th>\n",
       "      <th>mths_since_last_pymnt_d</th>\n",
       "      <th>mths_since_last_credit_pull_d</th>\n",
       "    </tr>\n",
       "  </thead>\n",
       "  <tbody>\n",
       "    <tr>\n",
       "      <th>381958</th>\n",
       "      <td>36</td>\n",
       "      <td>2</td>\n",
       "      <td>351.0</td>\n",
       "      <td>71.0</td>\n",
       "      <td>67.0</td>\n",
       "      <td>67.0</td>\n",
       "    </tr>\n",
       "    <tr>\n",
       "      <th>135266</th>\n",
       "      <td>60</td>\n",
       "      <td>5</td>\n",
       "      <td>259.0</td>\n",
       "      <td>76.0</td>\n",
       "      <td>70.0</td>\n",
       "      <td>67.0</td>\n",
       "    </tr>\n",
       "    <tr>\n",
       "      <th>451467</th>\n",
       "      <td>60</td>\n",
       "      <td>10</td>\n",
       "      <td>302.0</td>\n",
       "      <td>85.0</td>\n",
       "      <td>78.0</td>\n",
       "      <td>78.0</td>\n",
       "    </tr>\n",
       "    <tr>\n",
       "      <th>596565</th>\n",
       "      <td>60</td>\n",
       "      <td>0</td>\n",
       "      <td>339.0</td>\n",
       "      <td>81.0</td>\n",
       "      <td>67.0</td>\n",
       "      <td>67.0</td>\n",
       "    </tr>\n",
       "    <tr>\n",
       "      <th>72200</th>\n",
       "      <td>60</td>\n",
       "      <td>8</td>\n",
       "      <td>221.0</td>\n",
       "      <td>74.0</td>\n",
       "      <td>67.0</td>\n",
       "      <td>67.0</td>\n",
       "    </tr>\n",
       "  </tbody>\n",
       "</table>\n",
       "</div>"
      ],
      "text/plain": [
       "        term  emp_length  mths_since_earliest_cr_line  mths_since_issue_d  \\\n",
       "381958    36           2                        351.0                71.0   \n",
       "135266    60           5                        259.0                76.0   \n",
       "451467    60          10                        302.0                85.0   \n",
       "596565    60           0                        339.0                81.0   \n",
       "72200     60           8                        221.0                74.0   \n",
       "\n",
       "        mths_since_last_pymnt_d  mths_since_last_credit_pull_d  \n",
       "381958                     67.0                           67.0  \n",
       "135266                     70.0                           67.0  \n",
       "451467                     78.0                           78.0  \n",
       "596565                     67.0                           67.0  \n",
       "72200                      67.0                           67.0  "
      ]
     },
     "execution_count": 150,
     "metadata": {},
     "output_type": "execute_result"
    }
   ],
   "source": [
    "X_train.head()"
   ]
  },
  {
   "cell_type": "code",
   "execution_count": null,
   "id": "db159b74",
   "metadata": {},
   "outputs": [],
   "source": [
    "# Term positif, semakin tinggi jangka waktu untuk melunasi maakin besar peluang gagal bayarnya\n",
    "# employement length, semakin tinggi maka kemungkinan gagal bayar semakin rendah\n",
    "# mths_secl, jika umur credit line tua, peluang gagal bayar semakin rendah\n",
    "# issue_date, kalau uang yang dicairkan uda lama, semakin tinggi peluang gagal bayarnya\n",
    "# since_last_pymnt, jika bulan pembayaran terakhir sudah sangat lama, maka kemungkinan gagal bayar tinggi\n",
    "# last_credit_pull, Nan"
   ]
  }
 ],
 "metadata": {
  "kernelspec": {
   "display_name": "Python 3 (ipykernel)",
   "language": "python",
   "name": "python3"
  },
  "language_info": {
   "codemirror_mode": {
    "name": "ipython",
    "version": 3
   },
   "file_extension": ".py",
   "mimetype": "text/x-python",
   "name": "python",
   "nbconvert_exporter": "python",
   "pygments_lexer": "ipython3",
   "version": "3.9.7"
  }
 },
 "nbformat": 4,
 "nbformat_minor": 5
}
